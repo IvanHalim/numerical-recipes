{
 "cells": [
  {
   "cell_type": "markdown",
   "metadata": {},
   "source": [
    "## Logistic Regression using Gradient Descent\n",
    "\n",
    "We've learned a lot of theories in the previous notebook, but just like what Richard Feynman used to say, \"What I cannot create, I do not understand\", so let's try to implement our own Logistic Regression algorithm from scratch. We're now going to predict whether a student is admitted or not based on their exam scores.\n",
    "\n",
    "First, let's load up the exam data"
   ]
  },
  {
   "cell_type": "code",
   "execution_count": 1,
   "metadata": {},
   "outputs": [
    {
     "data": {
      "text/html": [
       "<div>\n",
       "<style scoped>\n",
       "    .dataframe tbody tr th:only-of-type {\n",
       "        vertical-align: middle;\n",
       "    }\n",
       "\n",
       "    .dataframe tbody tr th {\n",
       "        vertical-align: top;\n",
       "    }\n",
       "\n",
       "    .dataframe thead th {\n",
       "        text-align: right;\n",
       "    }\n",
       "</style>\n",
       "<table border=\"1\" class=\"dataframe\">\n",
       "  <thead>\n",
       "    <tr style=\"text-align: right;\">\n",
       "      <th></th>\n",
       "      <th>exam1</th>\n",
       "      <th>exam2</th>\n",
       "      <th>y</th>\n",
       "    </tr>\n",
       "  </thead>\n",
       "  <tbody>\n",
       "    <tr>\n",
       "      <th>0</th>\n",
       "      <td>34.623660</td>\n",
       "      <td>78.024693</td>\n",
       "      <td>0</td>\n",
       "    </tr>\n",
       "    <tr>\n",
       "      <th>1</th>\n",
       "      <td>30.286711</td>\n",
       "      <td>43.894998</td>\n",
       "      <td>0</td>\n",
       "    </tr>\n",
       "    <tr>\n",
       "      <th>2</th>\n",
       "      <td>35.847409</td>\n",
       "      <td>72.902198</td>\n",
       "      <td>0</td>\n",
       "    </tr>\n",
       "    <tr>\n",
       "      <th>3</th>\n",
       "      <td>60.182599</td>\n",
       "      <td>86.308552</td>\n",
       "      <td>1</td>\n",
       "    </tr>\n",
       "    <tr>\n",
       "      <th>4</th>\n",
       "      <td>79.032736</td>\n",
       "      <td>75.344376</td>\n",
       "      <td>1</td>\n",
       "    </tr>\n",
       "  </tbody>\n",
       "</table>\n",
       "</div>"
      ],
      "text/plain": [
       "       exam1      exam2  y\n",
       "0  34.623660  78.024693  0\n",
       "1  30.286711  43.894998  0\n",
       "2  35.847409  72.902198  0\n",
       "3  60.182599  86.308552  1\n",
       "4  79.032736  75.344376  1"
      ]
     },
     "execution_count": 1,
     "metadata": {},
     "output_type": "execute_result"
    }
   ],
   "source": [
    "from __future__ import division\n",
    "import numpy as np\n",
    "import matplotlib.pyplot as plt\n",
    "import pandas as pd\n",
    "\n",
    "from scipy.optimize import minimize\n",
    "\n",
    "df = pd.read_csv('Data/examdata.csv', header = None)\n",
    "df.rename(columns = {0: 'exam1', 1: 'exam2', 2: 'y'}, inplace = True)\n",
    "df.head()"
   ]
  },
  {
   "cell_type": "markdown",
   "metadata": {},
   "source": [
    "It's a good habit to visualize our data in a scatterplot before proceeding"
   ]
  },
  {
   "cell_type": "code",
   "execution_count": 2,
   "metadata": {},
   "outputs": [
    {
     "data": {
      "image/png": "[encoded data removed]",
      "text/plain": [
       "<Figure size 864x576 with 1 Axes>"
      ]
     },
     "metadata": {
      "needs_background": "light"
     },
     "output_type": "display_data"
    }
   ],
   "source": [
    "fig = plt.figure(figsize = (12, 8))\n",
    "plt.scatter(df[df['y'] == 0]['exam1'], df[df['y'] == 0]['exam2'],\n",
    "            label = 'Not admitted', color = 'yellow', edgecolor = 'black')\n",
    "plt.scatter(df[df['y'] == 1]['exam1'], df[df['y'] == 1]['exam2'],\n",
    "            label = 'Admitted', marker = '+', color = 'black')\n",
    "plt.xlabel('Exam 1 score')\n",
    "plt.ylabel('Exam 2 score')\n",
    "plt.legend(loc = 'upper right')\n",
    "plt.title('Scores indicating admission')\n",
    "plt.show()"
   ]
  },
  {
   "cell_type": "markdown",
   "metadata": {},
   "source": [
    "Hmm, looks pretty separable\n",
    "\n",
    "## Implementation\n",
    "Now let's implement our Logistic Regression"
   ]
  },
  {
   "cell_type": "code",
   "execution_count": 3,
   "metadata": {},
   "outputs": [],
   "source": [
    "class LogisticRegression:\n",
    "    \"\"\"Performs Logistic Regression using Batch Gradient\n",
    "    Descent.\"\"\"\n",
    "    def __init__(self, X, y, epoch = 5000):\n",
    "        \"\"\"Initialise variables.\n",
    "        \n",
    "        Parameters\n",
    "        ----------\n",
    "        y : numpy array like, output / dependent variable\n",
    "        X : numpy array like, input / independent variables\n",
    "        epoch : Number of maximum iterations to perform\n",
    "            gradient descent\n",
    "        \"\"\"\n",
    "        self.X = self._hstack_one(X)\n",
    "        self.y = y\n",
    "        self.epoch = epoch\n",
    "        self.thetas = np.zeros(self.X.shape[1])\n",
    "        self.n_rows = self.X.shape[0]\n",
    "        print(\"Cost before fitting: %.4f\" % self.cost())\n",
    "        \n",
    "    @staticmethod\n",
    "    def _hstack_one(input_matrix):\n",
    "        \"\"\"Horizontally stack a column of ones for the coefficients\n",
    "        of the bias terms\n",
    "        \n",
    "        Parameters\n",
    "        ----------\n",
    "        input_matrix: numpy array like (N x M). Where N = number of \n",
    "            examples. M = Number of features.\n",
    "        \n",
    "        Returns\n",
    "        -------\n",
    "        numpy array with stacked column of ones (N x M + 1)\n",
    "        \"\"\"\n",
    "        if len(input_matrix.shape) == 1:\n",
    "            return np.hstack((np.ones(1), input_matrix))\n",
    "        else:\n",
    "            return np.hstack(\n",
    "                (np.ones((input_matrix.shape[0], 1)), input_matrix))\n",
    "        \n",
    "    @staticmethod\n",
    "    def sigmoid(X):\n",
    "        return 1 / (1 + np.exp(-X))\n",
    "    \n",
    "    def cost(self, thetas = None):\n",
    "        \"\"\"Calculates the cost of current configuration\"\"\"\n",
    "        if thetas is None:\n",
    "            thetas = self.thetas\n",
    "        net_input = self.X.dot(thetas)\n",
    "        net_input_pos = net_input[self.y == 1]\n",
    "        net_input_neg = net_input[self.y == 0]\n",
    "        cost = - (1 / self.n_rows) \\\n",
    "                * (np.sum(np.log(self.sigmoid(net_input_pos) + 10**(-16))) \n",
    "                    + np.sum(np.log(1 - self.sigmoid(net_input_neg) + 10**(-16))))\n",
    "        return cost\n",
    "    \n",
    "    def predict(self, new_X, threshold = 0.5):\n",
    "        \"\"\"Predict values using current configuration\n",
    "        \n",
    "        Parameters\n",
    "        ----------\n",
    "        new_X : numpy array like\n",
    "        threshold : float between 0-1.\n",
    "            Classify as 1 if output > threshold.\n",
    "            Classify as 0 if output < threshold.\n",
    "        \"\"\"\n",
    "        assert new_X.shape[0] != self.X.shape[1] - 1, \\\n",
    "            \"Number of features don't match. {0} != {1}\"\\\n",
    "                .format(new_X.shape[0], self.X.shape[1] - 1)\n",
    "        new_X = self._hstack_one(new_X)\n",
    "        net_input = new_X.dot(self.thetas)\n",
    "        return self.sigmoid(net_input) >= threshold\n",
    "    \n",
    "    def batch_gradient(self, thetas = None):\n",
    "        if thetas is None:\n",
    "            thetas = self.thetas\n",
    "        errors = self.sigmoid(self.X.dot(thetas)) - self.y\n",
    "        return self.X.T.dot(errors)\n",
    "    \n",
    "    def scipy_optimize(self):\n",
    "        result = minimize(self.cost, self.thetas, jac = self.batch_gradient,\n",
    "                          options = {'maxiter': self.epoch})\n",
    "        print(result)\n",
    "        self.thetas = result.x"
   ]
  },
  {
   "cell_type": "code",
   "execution_count": 4,
   "metadata": {},
   "outputs": [
    {
     "name": "stdout",
     "output_type": "stream",
     "text": [
      "Cost before fitting: 0.6931\n",
      "      fun: 0.20349770159875202\n",
      " hess_inv: array([[ 1.40373351e+01, -1.14184125e-01, -1.24245178e-01],\n",
      "       [-1.14184125e-01,  1.00361444e-03,  9.44354180e-04],\n",
      "       [-1.24245178e-01,  9.44354180e-04,  1.17995452e-03]])\n",
      "      jac: array([-2.23161959e-06, -1.38316498e-04, -1.46777848e-04])\n",
      "  message: 'Desired error not necessarily achieved due to precision loss.'\n",
      "     nfev: 314\n",
      "      nit: 68\n",
      "     njev: 303\n",
      "   status: 2\n",
      "  success: False\n",
      "        x: array([-25.16133147,   0.2062317 ,   0.20147158])\n",
      "Cost after converging: 0.2035\n"
     ]
    }
   ],
   "source": [
    "lr = LogisticRegression(df[['exam1', 'exam2']].values, df['y'].values, epoch = 20000)\n",
    "optim_theta = lr.scipy_optimize()\n",
    "print(\"Cost after converging: %.4f\" % lr.cost())"
   ]
  },
  {
   "cell_type": "code",
   "execution_count": 5,
   "metadata": {},
   "outputs": [
    {
     "data": {
      "image/png": "[encoded data removed]",
      "text/plain": [
       "<Figure size 864x576 with 1 Axes>"
      ]
     },
     "metadata": {
      "needs_background": "light"
     },
     "output_type": "display_data"
    }
   ],
   "source": [
    "# Plotting the prediction line\n",
    "col1 = \"exam1\"\n",
    "col2 = \"exam2\"\n",
    "min_ex1 = df[col1].min()\n",
    "max_ex1 = df[col1].max()\n",
    "\n",
    "min_ex2 = df[col2].min()\n",
    "max_ex2 = df[col2].max()\n",
    "\n",
    "arange_step = 0.1\n",
    "\n",
    "xx, yy = np.meshgrid(np.arange(min_ex1, max_ex1, arange_step), \n",
    "                     np.arange(min_ex2, max_ex2, arange_step))\n",
    "preds = np.c_[xx.ravel(), yy.ravel()]\n",
    "preds = lr.predict(preds)\n",
    "preds = preds.reshape(xx.shape)\n",
    "fig = plt.figure(figsize = (12, 8))\n",
    "plt.scatter(df[df['y'] == 0][col1], df[df['y'] == 0][col2],\n",
    "            label = 'Not admitted', color = 'yellow', edgecolor = 'black')\n",
    "plt.scatter(df[df['y'] == 1][col1], df[df['y'] == 1][col2],\n",
    "            label = 'Admitted', marker = '+', color = 'black')\n",
    "plt.contour(xx, yy, preds, colors = 'blue')\n",
    "plt.xlabel('Exam 1 score')\n",
    "plt.ylabel('Exam 2 score')\n",
    "plt.legend(loc = 'upper right')\n",
    "plt.title('Scores indicating admission')\n",
    "plt.show()"
   ]
  }
 ],
 "metadata": {
  "kernelspec": {
   "display_name": "Python 3",
   "language": "python",
   "name": "python3"
  },
  "language_info": {
   "codemirror_mode": {
    "name": "ipython",
    "version": 3
   },
   "file_extension": ".py",
   "mimetype": "text/x-python",
   "name": "python",
   "nbconvert_exporter": "python",
   "pygments_lexer": "ipython3",
   "version": "3.6.8"
  }
 },
 "nbformat": 4,
 "nbformat_minor": 2
}
