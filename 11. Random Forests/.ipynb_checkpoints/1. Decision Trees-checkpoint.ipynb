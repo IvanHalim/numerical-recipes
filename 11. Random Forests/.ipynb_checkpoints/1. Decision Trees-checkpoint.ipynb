{
 "cells": [
  {
   "cell_type": "markdown",
   "metadata": {},
   "source": [
    "# Decision Trees\n",
    "\n",
    "Decision trees are a powerful prediction method and extremely popular.\n",
    "\n",
    "They are popular because the final model is so easy to understand by practicioners and domain experts alike. The final decision tree can explain exactly why a specific prediction was made, making it very attractive for operational use.\n",
    "\n",
    "Decision trees also provide the foundation for more advanced ensemble methods such as bagging, random forests and gradient boosting.\n",
    "\n",
    "In this tutorial, you will discover how to implement the Classification And Regression Tree algorithm from scratch with Python.\n",
    "\n",
    "After completing this tutorial, you will know:\n",
    "-  How to calculate and evaluate candidate split points in a data.\n",
    "-  How to arrange splits into a decision tree structure.\n",
    "-  How to apply the classification and regression tree algorithm to a real problem.\n",
    "\n",
    "Let's get started.\n",
    "\n",
    "## Descriptions\n",
    "\n",
    "This section provides a brief introduction to the Classification and Regression Tree algorithm and the Banknote dataset used in this tutorial.\n",
    "\n",
    "### Classification and Regression Trees\n",
    "\n",
    "Classification or Regression Trees or CART for short is an acronym introduced by Leo Breiman to refer to Decision Tree algorithms that can be used for classification or regression predictive modeling problems.\n",
    "\n",
    "We will focus on using CART for classification in this tutorial.\n",
    "\n",
    "The representation of the CART model is a binary tree. This is the same binary tree from algorithms and data structures, nothing too fancy (each node can have zero, one or two child nodes).\n",
    "\n",
    "A node represents a single input variable (X) and a split point on that variable, assuming the variable is numeric. The leaf nodes (also called terminal nodes) of the tree contain an output variable (y) which is used to make a prediction.\n",
    "\n",
    "Once created, a tree can be navigated with a new row of data following each branch with the splits until a final prediction is made.\n",
    "\n",
    "Creating a binary decision tree is actually a process of dividing up the input space. A greedy approach is used to divide the space, called Recursive Binary Splitting. This is a numerical procedure where all the values are lined up and different split points are tried and tested using a cost function.\n",
    "\n",
    "The split with the best cost (lowest cost because we minimize cost) is selected. All input variables and all possible split points are evaluated and chosen in a greedy manner based on the cost function.\n",
    "\n",
    "-  __Regression__: The cost function that is minimized to choose split points is the sum squared error across all training samples that fall within the rectangle.\n",
    "-  __Classification__: The Gini cost function is used which provides an indication of how pure the nodes are, where node purity refers to how mixed the training data assigned to each node is.\n",
    "\n",
    "Splitting continues until nodes contain a minimum number of training examples or a maximum tree depth is reached."
   ]
  },
  {
   "cell_type": "code",
   "execution_count": null,
   "metadata": {},
   "outputs": [],
   "source": []
  }
 ],
 "metadata": {
  "kernelspec": {
   "display_name": "Python 3",
   "language": "python",
   "name": "python3"
  },
  "language_info": {
   "codemirror_mode": {
    "name": "ipython",
    "version": 3
   },
   "file_extension": ".py",
   "mimetype": "text/x-python",
   "name": "python",
   "nbconvert_exporter": "python",
   "pygments_lexer": "ipython3",
   "version": "3.6.8"
  }
 },
 "nbformat": 4,
 "nbformat_minor": 2
}
