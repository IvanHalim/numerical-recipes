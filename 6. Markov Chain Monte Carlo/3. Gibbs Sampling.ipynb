{
 "cells": [
  {
   "cell_type": "markdown",
   "metadata": {},
   "source": [
    "# Gibbs Sampling\n",
    "Gibbs Sampling is an MCMC method to draw samples from a potentially really, really complicated, high dimensional distribution, where analytically, it's hard to draw samples from it. The usual suspect would be those nasty integrals when computing the normalizing constant of the distribution, especially in Bayesian Inference. Now Gibbs Sampler can draw samples from any distribution, provided you can provide all of the conditional distributions of the joint distribution analytically.\n",
    "\n",
    "In this example I will use Gibb's Sampler to draw samples from a Bivariate Gaussian with mu of `[5, 5]` and sigma/covariance matrix of `[[1, 0.9], [0.9, 1]]`."
   ]
  },
  {
   "cell_type": "markdown",
   "metadata": {},
   "source": [
    "Now, pretend that this distribution is really complicated and very hard to sample (I know, I know, but please bear with me). We don't know how to sample from this directly, and we don't even know the shape of the distribution. However, because of some mathematical convenience, or maybe by just sheer luck, we know the conditional distributions: `P(X|Y)` and `P(Y|X)`. By now, it screams \"Gibbs Sampling!\".\n",
    "\n",
    "The derivation of conditional distribution of Multivariate Gaussian could be found here:\n",
    "\n",
    "http://fourier.eng.hmc.edu/e161/lectures/gaussianprocess/node7.html.\n",
    "\n",
    "Let's inspect the Gibbs Sampler code, shall we."
   ]
  },
  {
   "cell_type": "code",
   "execution_count": 3,
   "metadata": {},
   "outputs": [],
   "source": [
    "import numpy as np\n",
    "import seaborn as sns\n",
    "\n",
    "## I like to imagine the conditional distribution as cutting a slice through the joint distribution.\n",
    "## If you cut a slice through a bivariate gaussian at any point, you'll get a univariate gaussian distribution.\n",
    "\n",
    "## The horizontal conditional distribution.\n",
    "def p_x_given_y(y, mus, sigmas):\n",
    "    mu = mus[0] + sigmas[1, 0] / sigmas[0, 0] * (y - mus[1])\n",
    "    sigma = sigmas[0, 0] - sigmas[1, 0] / sigmas[1, 1] * sigmas[1, 0]\n",
    "    return np.random.normal(mu, sigma)\n",
    "\n",
    "## The vertical conditional distribution\n",
    "def p_y_given_x(x, mus, sigmas):\n",
    "    mu = mus[1] + sigmas[0, 1] / sigmas[1, 1] * (x - mus[0])\n",
    "    sigma = sigmas[1, 1] - sigmas[0, 1] / sigmas[0, 0] * sigmas[0, 1]\n",
    "    return np.random.normal(mu, sigma)\n",
    "\n",
    "\n",
    "def gibbs_sampling(mus, sigmas, iter = 10000):\n",
    "    samples = np.zeros((iter, 2))\n",
    "    \n",
    "    ## Initialize starting point\n",
    "    y = np.random.rand() * 10\n",
    "    \n",
    "    for i in range(iter):\n",
    "        x = p_x_given_y(y, mus, sigmas)\n",
    "        y = p_y_given_x(x, mus, sigmas)\n",
    "        samples[i, :] = [x, y]\n",
    "        \n",
    "    return samples"
   ]
  },
  {
   "cell_type": "markdown",
   "metadata": {},
   "source": [
    "Really really really simple. The main algorithm is just what, 10 lines of code? Including whitespaces.\n",
    "\n",
    "The potentially complicated thing would be to derive the conditional distribution. For popular distributions, you can find those derivations easily on Google. There, in `p_x_given_y` and `p_y_given_x`, the conditional distribution of a Bivariate Normal is Univariate Gaussian with a mean that depends on the conditional.\n",
    "\n",
    "After we get a hold on these conditionals, the rest is very simple. Just plug in those conditionals into the sampler, which iteratively samples from all conditional distributions. At each iteration, Gibbs Sampler will sample from each conditional distribution in turn, and use the new value to sample the other conditional distributions.\n",
    "\n",
    "After a lot of iteration, it will then converge to approximately the exact distribution we're sampling. From there, you could just take the integral (mean, median, etc), or, if you're like me who like pretty things, visualize the samples.\n",
    "\n",
    "Here's the result of that Gibbs sampler:"
   ]
  },
  {
   "cell_type": "code",
   "execution_count": 2,
   "metadata": {},
   "outputs": [
    {
     "data": {
      "text/plain": [
       "<seaborn.axisgrid.JointGrid at 0x1df5141a240>"
      ]
     },
     "execution_count": 2,
     "metadata": {},
     "output_type": "execute_result"
    },
    {
     "data": {
      "image/png": "[encoded data removed]",
      "text/plain": [
       "<Figure size 432x432 with 3 Axes>"
      ]
     },
     "metadata": {
      "needs_background": "light"
     },
     "output_type": "display_data"
    }
   ],
   "source": [
    "mus = np.array([5, 5])\n",
    "sigmas = np.array([[1, .9], [.9, 1]])\n",
    "\n",
    "samples = gibbs_sampling(mus, sigmas)\n",
    "sns.jointplot(samples[:, 0], samples[:, 1])"
   ]
  },
  {
   "cell_type": "markdown",
   "metadata": {},
   "source": [
    "Pretty good, huh?\n",
    "\n",
    "Gibbs Sampling is one hell of an algorithm. It's so simple, yet took me a long time to get the intuition."
   ]
  }
 ],
 "metadata": {
  "kernelspec": {
   "display_name": "Python 3",
   "language": "python",
   "name": "python3"
  },
  "language_info": {
   "codemirror_mode": {
    "name": "ipython",
    "version": 3
   },
   "file_extension": ".py",
   "mimetype": "text/x-python",
   "name": "python",
   "nbconvert_exporter": "python",
   "pygments_lexer": "ipython3",
   "version": "3.7.1"
  }
 },
 "nbformat": 4,
 "nbformat_minor": 2
}
