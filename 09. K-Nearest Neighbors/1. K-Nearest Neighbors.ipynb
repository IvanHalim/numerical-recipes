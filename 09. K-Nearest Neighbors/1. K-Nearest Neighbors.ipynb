{
 "cells": [
  {
   "cell_type": "markdown",
   "metadata": {},
   "source": [
    "# k-Nearest Neighbors\n",
    "\n",
    "The k-Nearest Neighbors algorithm (or kNN for short) is an easy algorithm to understand and to implement, and a powerful tool to have at your disposal.\n",
    "\n",
    "In this tutorial you will implement the k-Nearest Neighbors algorithm from scratch in Python. The implementation will be specific for classification problems and will be demonstrated using the Iris flowers classification problem.\n",
    "\n",
    "This tutorial is for you if you are a Python programmer, or a programmer who can pick-up Python quickly, and you are interested in how to implement k-Nearest Neighbors from scratch.\n",
    "\n",
    "<img src=\"files/k-Nearest-Neighbors-algorithm.png\">\n",
    "\n",
    "## What is k-Nearest Neighbors\n",
    "\n",
    "The model for kNN is the entire training dataset. When a prediction is required for an unseen data instance, the kNN algorithm will search through the training dataset for the k-most similar instances. The prediction attribute of the most similar instances is summarized and returned as the prediction for the unseen instance.\n",
    "\n",
    "The similarity measure is dependent on the type of data. For real-valued data, the Euclidean distance can be used. Other types of data such as categorical or binary data, Hamming distance can be used.\n",
    "\n",
    "In the case of regression problems, the average of the predicted attribute may be returned. In the case of classification, the most prevalent class may be returned.\n",
    "\n",
    "## How does k-Nearest Neighbors Work\n",
    "\n",
    "The kNN algorithm belongs to the family of instance-based, competitive learning and lazy learning algorithms.\n",
    "\n",
    "Instance-based algorithms are those algorithms that model the problem using data instances (or rows) in order to make predictive decisions. The kNN algorithm is an extreme form of instance-based methods because all training observations are retained as part of the model.\n",
    "\n",
    "It is a competitive learning algorithm, because it internally uses competition between model elements (data instances) in order to make a predictive decision. The objective similarity measure between data instances causes each data instance to compete to \"win\" or be most similar to a given unseen data instance and contribute to a prediction.\n",
    "\n",
    "Lazy learning refers to the fact that the algorithm does not build a model until the time that a prediction is required. It is lazy because it only does work at the last second. This has the benefit of only including data relevant to the unseen data, called a localized model. A disadvantage is that it can be computationally expensive to repeat the same or similar searches over larger training datasets.\n",
    "\n",
    "Finally, kNN is powerful because it does not assume anything about the data, other than a distance measure that can be calculated consistently between any two instances. As such, it is called non-parametric or non-linear as it does not assume a functional form\n",
    "\n",
    "## Classify Flowers Using Measurements\n",
    "\n",
    "The test problem we will be using in this tutorial is iris classification.\n",
    "\n",
    "The problem is comprised of 150 observations of iris flowers from three different species. There are 4 measurements of given flowers: sepal length, sepal width, petal length and petal width, all in the same unit of centimeters. The predicted attribute is the species, which is one of setosa, versicolor or virginica.\n",
    "\n",
    "It is a standard dataset where the species is known for all instances. As such we can split the data into training and test datasets and use the results to evaluate our algorithm implementation. Good classification accuracy on this problem is above 90% correct, typically 96% or better.\n",
    "\n",
    "-  [Download the Iris Flowers Dataset](https://archive.ics.uci.edu/ml/machine-learning-databases/iris/iris.data)\n",
    "\n",
    "Save the file in your current working directory with the file name \"_iris.data_\".\n",
    "\n",
    "## How to implement k-Nearest Neighbors in Python\n",
    "\n",
    "This tutorial is broken down into the following steps:\n",
    "\n",
    "1. __Handle Data__: Open the dataset from CSV and split into test/train datasets.\n",
    "2. __Similarity__: Calculate the distance between two data instances.\n",
    "3. __Neighbors__: Locate k-most similar data instances.\n",
    "4. __Response__: Generate a response from a set of data instances.\n",
    "5. __Accuracy__: Summarize the accuracy of predictions.\n",
    "6. __Main__: Tie it all together.\n",
    "\n",
    "### 1. Handle Data\n",
    "\n",
    "The first thing we need to do is load our data file. The data is in CSV format without a header line or any quotes. We also need to convert the attributes that were loaded as strings into numbers so that we can work with them. Below is the __read_csv()__ function for loading the Iris dataset."
   ]
  },
  {
   "cell_type": "code",
   "execution_count": 1,
   "metadata": {},
   "outputs": [],
   "source": [
    "def read_csv(filename):\n",
    "    with open(filename) as f:\n",
    "        dataset = [[x for x in line.split(',')] for line in f if line.strip()]\n",
    "        for row in dataset:\n",
    "            for i in range(len(row)-1):\n",
    "                row[i] = float(row[i])\n",
    "            row[-1] = row[-1].strip()\n",
    "    return dataset"
   ]
  },
  {
   "cell_type": "markdown",
   "metadata": {},
   "source": [
    "We can test this function by loading the Iris dataset and printing the number of data instances that were loaded."
   ]
  },
  {
   "cell_type": "code",
   "execution_count": 2,
   "metadata": {},
   "outputs": [
    {
     "name": "stdout",
     "output_type": "stream",
     "text": [
      "Loaded data file \"iris.data\" with 150 rows\n"
     ]
    }
   ],
   "source": [
    "filename = 'iris.data'\n",
    "dataset = read_csv(filename)\n",
    "print('Loaded data file \"{0}\" with {1} rows'.format(filename, len(dataset)))"
   ]
  },
  {
   "cell_type": "markdown",
   "metadata": {},
   "source": [
    "Next we need to split the data into a training dataset that kNN can use to make predictions and a test dataset that we can use to evaluate the accuracy of the model. We need to split the dataset randomly into train and test datasets with a ratio of 67% train and 33% test (this is a common ratio for testing an algorithm on a dataset).\n",
    "\n",
    "Below is the __train_test_split()__ function that will split a given dataset into a given split ratio."
   ]
  },
  {
   "cell_type": "code",
   "execution_count": 3,
   "metadata": {},
   "outputs": [],
   "source": [
    "import random\n",
    "\n",
    "def train_test_split(dataset, split_ratio):\n",
    "    train_size = int(len(dataset) * split_ratio)\n",
    "    train = []\n",
    "    test = list(dataset)\n",
    "    while len(train) < train_size:\n",
    "        index = random.randrange(len(test))\n",
    "        train.append(test.pop(index))\n",
    "    return train, test"
   ]
  },
  {
   "cell_type": "markdown",
   "metadata": {},
   "source": [
    "Download the iris flowers dataset CSV file to the local directory. We can test this function out with our iris dataset, as follows:"
   ]
  },
  {
   "cell_type": "code",
   "execution_count": 4,
   "metadata": {},
   "outputs": [
    {
     "name": "stdout",
     "output_type": "stream",
     "text": [
      "Split 150 rows into train = 100 and test = 50 rows\n"
     ]
    }
   ],
   "source": [
    "dataset = read_csv('iris.data')\n",
    "train, test = train_test_split(dataset, 0.67)\n",
    "print('Split %d rows into train = %d and test = %d rows'\n",
    "      % (len(dataset), len(train), len(test)))"
   ]
  },
  {
   "cell_type": "markdown",
   "metadata": {},
   "source": [
    "### 2. Similarity\n",
    "\n",
    "In order to make predictions we need to calculate the similarity between any two given data instances. This is needed so that we can locate the k most similar data instances in the training dataset for a given member of the test dataset and in turn make a prediction.\n",
    "\n",
    "Given that all four flower measurements are numeric and have the same units, we can directly use the Euclidean distance measure. This is defined as the square root of the sum of the squared differences between the two arrays of numbers (read that again a few times and let it sink in).\n",
    "\n",
    "Additionally, we want to control which fields to include in the distance calculation. Specifically, we only want to include the first 4 attributes. One approach is to limit the euclidean distance to a fixed length, ignoring the final dimension.\n",
    "\n",
    "Putting all of this together we can define the __euclidean_distance()__ function as follows:"
   ]
  },
  {
   "cell_type": "code",
   "execution_count": 5,
   "metadata": {},
   "outputs": [],
   "source": [
    "import math\n",
    "\n",
    "def euclidean_distance(instance1, instance2, length):\n",
    "    distance = 0\n",
    "    for i in range(length):\n",
    "        distance += (instance1[i] - instance2[i])**2\n",
    "    return math.sqrt(distance)"
   ]
  },
  {
   "cell_type": "markdown",
   "metadata": {},
   "source": [
    "We can test this function with some sample data, as follows:"
   ]
  },
  {
   "cell_type": "code",
   "execution_count": 6,
   "metadata": {},
   "outputs": [
    {
     "name": "stdout",
     "output_type": "stream",
     "text": [
      "Distance: 3.4641016151377544\n"
     ]
    }
   ],
   "source": [
    "data1 = [2, 2, 2, 'a']\n",
    "data2 = [4, 4, 4, 'b']\n",
    "distance = euclidean_distance(data1, data2, 3)\n",
    "print('Distance: {0}'.format(distance))"
   ]
  },
  {
   "cell_type": "markdown",
   "metadata": {},
   "source": [
    "### 3. Neighbors\n",
    "\n",
    "Now that we have a similarity measure, we can use it to collect the k most similar instances for a given unseen instance.\n",
    "\n",
    "This is a straight forward process of calculating the distance for all instances and selecting a subset with the smallest distance values.\n",
    "\n",
    "Below is the __get_neighbors()__ function that returns k most similar neighbors from the training set for a given test instance (using the already defined __euclidean_distance()__ function)."
   ]
  },
  {
   "cell_type": "code",
   "execution_count": 7,
   "metadata": {},
   "outputs": [],
   "source": [
    "def get_neighbors(training_set, test_instance, k):\n",
    "    distances = []\n",
    "    length = len(training_set[0]) - 1\n",
    "    for train in training_set:\n",
    "        dist = euclidean_distance(test_instance, train, length)\n",
    "        distances.append((train, dist))\n",
    "    distances.sort(key = lambda x: x[1])\n",
    "    neighbors = [instance for instance, _ in distances[:k]]\n",
    "    return neighbors"
   ]
  },
  {
   "cell_type": "markdown",
   "metadata": {},
   "source": [
    "We can test out this function as follows:"
   ]
  },
  {
   "cell_type": "code",
   "execution_count": 8,
   "metadata": {},
   "outputs": [
    {
     "name": "stdout",
     "output_type": "stream",
     "text": [
      "[[2, 2, 2, 'a'], [4, 4, 4, 'b']]\n"
     ]
    }
   ],
   "source": [
    "training_set = [[2, 2, 2, 'a'], [4, 4, 4, 'b'], [6, 6, 6, 'c']]\n",
    "test_instance = [1, 1, 1]\n",
    "neighbors = get_neighbors(training_set, test_instance, 2)\n",
    "print(neighbors)"
   ]
  },
  {
   "cell_type": "markdown",
   "metadata": {},
   "source": [
    "### 4. Response\n",
    "\n",
    "Once we have located the most similar neighbors for a test instance, the next task is to devise a predicted response based on those neighbors.\n",
    "\n",
    "We can do this by allowing each neighbor to vote for their class attribute, and take the majority vote as the prediction.\n",
    "\n",
    "Below provides a function for getting the majority voted response from a number of neighbors. It assumes the class is the last attribute for each neighbor."
   ]
  },
  {
   "cell_type": "code",
   "execution_count": 9,
   "metadata": {},
   "outputs": [],
   "source": [
    "def get_response(neighbors):\n",
    "    votes = [neighbor[-1] for neighbor in neighbors]\n",
    "    return max(set(votes), key=votes.count)"
   ]
  },
  {
   "cell_type": "markdown",
   "metadata": {},
   "source": [
    "We can test this function with some test neighbors, as follows:"
   ]
  },
  {
   "cell_type": "code",
   "execution_count": 10,
   "metadata": {},
   "outputs": [
    {
     "name": "stdout",
     "output_type": "stream",
     "text": [
      "a\n"
     ]
    }
   ],
   "source": [
    "neighbors = [[1, 1, 1, 'a'], [2, 2, 2, 'a'], [3, 3, 3, 'b']]\n",
    "response = get_response(neighbors)\n",
    "print(response)"
   ]
  },
  {
   "cell_type": "markdown",
   "metadata": {},
   "source": [
    "This approach returns one response in the case of a draw, but you could handle such cases in a specific way, such as returning no response or selecting an unbiased random response.\n",
    "\n",
    "### 5. Make Predictions\n",
    "\n",
    "Finally, we can estimate the accuracy of the model by making predictions for each data instance in our test dataset. The __get_predictions()__ function will do this and return a list of predictions for each test instance."
   ]
  },
  {
   "cell_type": "code",
   "execution_count": 11,
   "metadata": {},
   "outputs": [],
   "source": [
    "def get_predictions(training_set, test_set, k):\n",
    "    predictions = [get_response(get_neighbors(training_set, input_vector, k)) for input_vector in test_set]\n",
    "    return predictions"
   ]
  },
  {
   "cell_type": "markdown",
   "metadata": {},
   "source": [
    "We can test the __get_predictions()__ function as follows:"
   ]
  },
  {
   "cell_type": "code",
   "execution_count": 12,
   "metadata": {},
   "outputs": [
    {
     "name": "stdout",
     "output_type": "stream",
     "text": [
      "Predictions: ['a', 'a', 'b', 'b']\n"
     ]
    }
   ],
   "source": [
    "training_set = [[2, 2, 2, 'a'], [5, 5, 5, 'b']]\n",
    "test_set = [[1, 1, 1], [3, 3, 3], [4, 4, 4], [6, 6, 6]]\n",
    "predictions = get_predictions(training_set, test_set, 1)\n",
    "print('Predictions: {0}'.format(predictions))"
   ]
  },
  {
   "cell_type": "markdown",
   "metadata": {},
   "source": [
    "### 6. Accuracy\n",
    "\n",
    "We have all the pieces of the kNN algorithm in place. An important remaining concern is how to evaluate the accuracy of predictions.\n",
    "\n",
    "An easy way to evaluate the accuracy of the model is to calculate a ratio of the total correct predictions out of all predictions made, called the classification accuracy.\n",
    "\n",
    "Below is the __get_accuracy()__ function that sums the total correct predictions and returns the accuracy as a percentage of correct classifications."
   ]
  },
  {
   "cell_type": "code",
   "execution_count": 13,
   "metadata": {},
   "outputs": [],
   "source": [
    "def get_accuracy(test_set, predictions):\n",
    "    correct = 0\n",
    "    for i in range(len(test_set)):\n",
    "        if test_set[i][-1] == predictions[i]:\n",
    "            correct += 1\n",
    "    return correct / float(len(test_set)) * 100.0"
   ]
  },
  {
   "cell_type": "markdown",
   "metadata": {},
   "source": [
    "We can test this function with a test dataset and predictions, as follows:"
   ]
  },
  {
   "cell_type": "code",
   "execution_count": 14,
   "metadata": {},
   "outputs": [
    {
     "name": "stdout",
     "output_type": "stream",
     "text": [
      "Accuracy: 66.66666666666666\n"
     ]
    }
   ],
   "source": [
    "test_set = [[1, 1, 1, 'a'], [2, 2, 2, 'a'], [3, 3, 3, 'b']]\n",
    "predictions = ['a', 'a', 'a']\n",
    "accuracy = get_accuracy(test_set, predictions)\n",
    "print('Accuracy: {0}'.format(accuracy))"
   ]
  },
  {
   "cell_type": "markdown",
   "metadata": {},
   "source": [
    "### 7. Main\n",
    "\n",
    "We now have all the elements of the algorithm and we can tie them together with a main function.\n",
    "\n",
    "Below is the complete example of implementing the kNN algorithm from scratch in Python."
   ]
  },
  {
   "cell_type": "code",
   "execution_count": 15,
   "metadata": {},
   "outputs": [
    {
     "name": "stdout",
     "output_type": "stream",
     "text": [
      "Split 150 rows into train = 100 and test = 50 rows\n",
      "Accuracy: 94.0%\n"
     ]
    }
   ],
   "source": [
    "# Example of kNN implemented from scratch in Python\n",
    "import random\n",
    "import math\n",
    "\n",
    "def read_csv(filename):\n",
    "    with open(filename) as f:\n",
    "        dataset = [[x for x in line.split(',')] for line in f if line.strip()]\n",
    "        for row in dataset:\n",
    "            for i in range(len(row)-1):\n",
    "                row[i] = float(row[i])\n",
    "            row[-1] = row[-1].rstrip()\n",
    "    return dataset\n",
    "\n",
    "def train_test_split(dataset, split_ratio):\n",
    "    train_size = int(len(dataset) * split_ratio)\n",
    "    train = []\n",
    "    test = list(dataset)\n",
    "    while len(train) < train_size:\n",
    "        index = random.randrange(len(test))\n",
    "        train.append(test.pop(index))\n",
    "    return train, test\n",
    "\n",
    "def euclidean_distance(instance1, instance2, length):\n",
    "    distance = 0\n",
    "    for i in range(length):\n",
    "        distance += (instance1[i] - instance2[i])**2\n",
    "    return math.sqrt(distance)\n",
    "\n",
    "def get_neighbors(training_set, test_instance, k):\n",
    "    distances = []\n",
    "    length = len(training_set[0]) - 1\n",
    "    for train in training_set:\n",
    "        dist = euclidean_distance(test_instance, train, length)\n",
    "        distances.append((train, dist))\n",
    "    distances.sort(key = lambda x: x[1])\n",
    "    neighbors = [instance for instance, _ in distances[:k]]\n",
    "    return neighbors\n",
    "\n",
    "def get_response(neighbors):\n",
    "    votes = [neighbor[-1] for neighbor in neighbors]\n",
    "    return max(set(votes), key=votes.count)\n",
    "\n",
    "def get_predictions(training_set, test_set, k):\n",
    "    predictions = [get_response(get_neighbors(training_set, input_vector, k)) for input_vector in test_set]\n",
    "    return predictions\n",
    "\n",
    "def get_accuracy(test_set, predictions):\n",
    "    correct = 0\n",
    "    for i in range(len(test_set)):\n",
    "        if test_set[i][-1] == predictions[i]:\n",
    "            correct += 1\n",
    "    return correct / float(len(test_set)) * 100.0\n",
    "\n",
    "if __name__ == '__main__':\n",
    "    dataset = read_csv('iris.data')\n",
    "    train, test = train_test_split(dataset, 0.67)\n",
    "    print('Split %d rows into train = %d and test = %d rows'\n",
    "          % (len(dataset), len(train), len(test)))\n",
    "    \n",
    "    # Test model\n",
    "    predictions = get_predictions(train, test, 3)\n",
    "    accuracy = get_accuracy(test, predictions)\n",
    "    print('Accuracy: {0}%'.format(accuracy))"
   ]
  },
  {
   "cell_type": "markdown",
   "metadata": {},
   "source": [
    "## Ideas For Extensions\n",
    "\n",
    "This section provides you with ideas for extensions that you could apply and investigate with the Python code you have implemented as part of this tutorial.\n",
    "\n",
    "-  __Regression__: You could adapt the implementation to work for regression problems (predicting a real-valued attribute). The summarization of the closest instances could involve taking the mean or the median of the predicted attribute.\n",
    "-  __Normalization__: When the units of measure differ between attributes, it is possible for attributes to dominate in their contribution to the distance measure. For these types of problems, you will want to rescale all data attributes into the range 0-1 (called normalization) before calculating similarity. Update the model to support data normalization.\n",
    "-  __Alternative Distance Measure__: There are many distance measures available, and you can even develop your own domain-specific distance measures if you like. Implement an alternative distance measure, such as Manhattan distance or the vector dot product.\n",
    "\n",
    "There are many more extensions to this algorithm you might like to explore. Two additional ideas include support for distance-weighted contribution for the k-most similar instances to the prediction and more advanced data tree-based structures for searching for similar instances."
   ]
  }
 ],
 "metadata": {
  "kernelspec": {
   "display_name": "Python 3",
   "language": "python",
   "name": "python3"
  },
  "language_info": {
   "codemirror_mode": {
    "name": "ipython",
    "version": 3
   },
   "file_extension": ".py",
   "mimetype": "text/x-python",
   "name": "python",
   "nbconvert_exporter": "python",
   "pygments_lexer": "ipython3",
   "version": "3.6.8"
  }
 },
 "nbformat": 4,
 "nbformat_minor": 2
}
