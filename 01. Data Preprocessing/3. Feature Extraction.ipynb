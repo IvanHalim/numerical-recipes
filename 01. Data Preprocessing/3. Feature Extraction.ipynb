{
 "cells": [
  {
   "cell_type": "markdown",
   "metadata": {},
   "source": [
    "## CountVectorizer\n",
    "CountVectorizer converts a bunch of documents into vectors so that we can use it with models. It basically just counts the number of times a particular word has occured."
   ]
  },
  {
   "cell_type": "code",
   "execution_count": 1,
   "metadata": {},
   "outputs": [
    {
     "name": "stdout",
     "output_type": "stream",
     "text": [
      "[[0 0 1 1 1 0 0 1 0 0 0]\n",
      " [0 0 0 0 1 0 0 0 0 1 1]\n",
      " [1 1 0 1 1 1 1 0 1 0 0]]\n",
      "{'ivan': 4, 'is': 3, 'nice': 7, 'boy': 2, 'rock': 9, 'wohooo': 10, 'my': 5, 'name': 6, 'and': 1, 'am': 0, 'pythonista': 8}\n"
     ]
    }
   ],
   "source": [
    "from sklearn.feature_extraction.text import CountVectorizer\n",
    "\n",
    "docs = [\"Ivan is a nice boy.\", \"Ivan rock! wohooo!\", \"My name is Ivan, and I am a Pythonista!\"]\n",
    "cv = CountVectorizer()\n",
    "X = cv.fit_transform(docs)\n",
    "print(X.todense())\n",
    "print(cv.vocabulary_)"
   ]
  },
  {
   "cell_type": "markdown",
   "metadata": {},
   "source": [
    "## DictVectorizer\n",
    "DictVectorizer will convert mappings to vectors."
   ]
  },
  {
   "cell_type": "code",
   "execution_count": 2,
   "metadata": {},
   "outputs": [
    {
     "name": "stdout",
     "output_type": "stream",
     "text": [
      "[[0. 1. 0. 2. 0. 0. 0. 1. 0. 0.]\n",
      " [1. 0. 1. 0. 2. 1. 2. 0. 3. 3.]]\n",
      "{'Ivan': 1, 'is': 7, 'awesome': 3, 'No': 2, 'I': 0, \"don't\": 4, 'wanna': 9, 'fall': 5, 'in': 6, 'love': 8}\n"
     ]
    }
   ],
   "source": [
    "from sklearn.feature_extraction import DictVectorizer\n",
    "\n",
    "docs = [{\"Ivan\": 1, \"is\": 1, \"awesome\": 2}, {\"No\": 1, \"I\": 1, \"don't\": 2, \"wanna\": 3, \"fall\": 1, \"in\": 2, \"love\": 3}]\n",
    "dv = DictVectorizer()\n",
    "X = dv.fit_transform(docs)\n",
    "print(X.todense())\n",
    "print(dv.vocabulary_)"
   ]
  },
  {
   "cell_type": "markdown",
   "metadata": {},
   "source": [
    "## TfidfVectorizer\n",
    "In many text analytics applications, we need to convert the text into vectors to use with Machine Learning algorithms. This is known as the Vector Space Model. While CountVectorizer could be a solution, words like \"the\", \"in\", \"a\", etc, are common words and often are used in all kinds of documents. Using CountVectorizer gives more emphasis on such word counts which are not relevant. You could circumvent this problem by using `stop_words = \"english\"` which would filter out common words, but let's say you have a different vocabulary, for instance a conversation between 2 Finance students would have words like \"Balance Sheet\", \"Interest Rate\", \"Profit/Loss\" mentioned too often and you'd have to manually add the stop words everytime for all the problems you solve.\n",
    "\n",
    "Thus in such scenarios, it is recommended to use `TfidfVectorizer` which will take care of such things. Every word is given a number according to the following formula.\n",
    "\n",
    "$$ \\text{tfidf(word)} = \\text{tf(word, document}_i \\text{)} \\cdot \\text{idf(word)}$$\n",
    "\n",
    "Where,\n",
    "1. tf(word, document_i) = Term Frequency of a word in the specific document i.\n",
    "2. idf(word) = Inverse Document Frequency of the word\n",
    "\n",
    "Inverse Document Frequency is defined as the log of ratio of the total number of documents to the number of documents which contains that particular word.\n",
    "\n",
    "$$ \\text{idf}\\left(w\\right)=\\log\\left(\\frac{n_d}{df\\left(w\\right)}\\right)$$\n",
    "\n",
    "Where,\n",
    "1. n_d = The total number of documents\n",
    "2. df(word) = The Document Frequency of the word, the number of documents where that particular word appears\n",
    "\n",
    "What it does intuitively is if a word has occured too many times in other documents as well (common words like \"the\", \"is\") then it gives lesser weightage to such words in contrast to words that have occured more number of times in a single document compared to others. Which basically means that if a particular word occurs more number of times in a single document only, then it might be an important feature.\n",
    "\n",
    "Note that the denominator is added with 1 to avoid underflow e.g. when the document frequency is 0.\n",
    "\n",
    "Sklearn additionally also normalizes the output of tfidf to have a norm of 1. This is important since we are only interested in similarities which means vectors like (1, 1) and (3, 3) are really the same (they go in the same direction, the just have different weights). This is achieved by dividing each element in the vector by the length of the vector.\n",
    "\n",
    "$$ v_i = \\frac{v_i}{|v_i|} = \\frac{v_i}{\\sqrt{v_1^2 + v_2^2 + v_3^2 + .... + v_n^2}}$$"
   ]
  },
  {
   "cell_type": "code",
   "execution_count": 3,
   "metadata": {},
   "outputs": [
    {
     "name": "stdout",
     "output_type": "stream",
     "text": [
      "[[0.         0.6088451  0.35959372 0.35959372 0.6088451  0.\n",
      "  0.        ]\n",
      " [0.         0.         0.45329466 0.45329466 0.         0.\n",
      "  0.76749457]\n",
      " [0.6088451  0.         0.35959372 0.35959372 0.         0.6088451\n",
      "  0.        ]]\n",
      "{'ivan': 3, 'is': 2, 'chess': 1, 'player': 4, 'skateboarder': 6, 'also': 0, 'programmer': 5}\n",
      "[[0 1 1 1 1 0 0]\n",
      " [0 0 1 1 0 0 1]\n",
      " [1 0 1 1 0 1 0]]\n"
     ]
    }
   ],
   "source": [
    "from sklearn.feature_extraction.text import TfidfVectorizer, CountVectorizer\n",
    "\n",
    "tfidf_vectorizer = TfidfVectorizer()\n",
    "cv_vectorizer = CountVectorizer()\n",
    "docs = [\"Ivan is a chess player\", \"Ivan is a skateboarder\", \"Ivan is also a programmer\"]\n",
    "X_idf = tfidf_vectorizer.fit_transform(docs)\n",
    "X_cv = cv_vectorizer.fit_transform(docs)\n",
    "print(X_idf.todense())\n",
    "print(tfidf_vectorizer.vocabulary_)\n",
    "print(X_cv.todense())"
   ]
  }
 ],
 "metadata": {
  "kernelspec": {
   "display_name": "Python 3",
   "language": "python",
   "name": "python3"
  },
  "language_info": {
   "codemirror_mode": {
    "name": "ipython",
    "version": 3
   },
   "file_extension": ".py",
   "mimetype": "text/x-python",
   "name": "python",
   "nbconvert_exporter": "python",
   "pygments_lexer": "ipython3",
   "version": "3.7.1"
  }
 },
 "nbformat": 4,
 "nbformat_minor": 2
}
