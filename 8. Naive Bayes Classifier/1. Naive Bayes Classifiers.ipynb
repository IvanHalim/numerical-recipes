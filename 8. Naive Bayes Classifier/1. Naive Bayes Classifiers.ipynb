{
 "cells": [
  {
   "cell_type": "markdown",
   "metadata": {},
   "source": [
    "# Naive Bayes Classifiers\n",
    "\n",
    "Naive Bayes classifiers are a collection of classification algorithms based on the __Bayes' Theorem__.\n",
    "\n",
    "$$P(A|B) = \\frac{P(B|A) \\cdot P(A)}{P(B)}$$\n",
    "\n",
    "Where $A$ and $B$ are events and $P(B) \\neq 0$.\n",
    "-  $P(A|B)$ is a conditional probability: the likelihood of event $A$ occurring given that $B$ is true.\n",
    "-  $P(B|A)$ is also a conditional probability: the likelihood of event $B$ occurring given that $A$ is true.\n",
    "-  $P(A)$ and $P(B)$ are the probabilities of observing $A$ and $B$ independently of each other; this is known as the marginal probability.\n",
    "\n",
    "It is not a single algorithms but a family of algorithms where all of them share a common principle, i.e. every pair of features being classified is independent of each other. This is a strong assumption but results in a fast and effective method.\n",
    "\n",
    "The probability of a class value given a value of an attribute is called the conditional probability. By multiplying the conditional probabilities together for each attribute for a given class value, we have a probability of a data instance belonging to that class.\n",
    "\n",
    "To make a prediction we can calculate probabilities of the instance belonging to each class and select the class value with the highest probability.\n",
    "\n",
    "## Predict the Onset of Diabetes\n",
    "\n",
    "The test problem we will use in this tutorial is the Pima Indians Diabetes problem.\n",
    "\n",
    "This problem is comprise of 768 observations of medical details for Pima Indians patients. The records describe instantaneous measurements taken from the patients such as their age, the number of times pregnant and blood workup. All patients are women aged 21 or older. All attributes are numeric, and their units vary from attribute to attribute.\n",
    "\n",
    "Each record has a class value that indicates whether the patient suffered an onset of diabetes within 5 years of when the measurements were taken (1) or not (0). This is a standard dataset that has been studied a lot in machine learning literature. A good prediction accuracy is 70%-76%.\n",
    "\n",
    "Below is a sample of from the _pima-indians.data.csv_ file to get a sense of the data we will be working with:\n",
    "```\n",
    " 6,148,72,35,0,33.6,0.627,50,1\n",
    " 1,85,66,29,0,26.6,0.351,31,0\n",
    " 8,183,64,0,0,23.3,0.672,32,1\n",
    " 1,89,66,23,94,28.1,0.167,21,0\n",
    " 0,137,40,35,168,43.1,2.288,33,1\n",
    "```\n",
    "\n",
    "This tutorial is broken down into the following steps:\n",
    "1. __Handle Data__: Load the data from the CSV file and split it into training and test datasets.\n",
    "2. __Summarize Data__: Summarize the properties in the training dataset so that we can calculate probabilities and make predictions.\n",
    "3. __Make a Prediction__: Use the summaries of the dataset to generate a single prediction.\n",
    "4. __Make Predictions__: Generate predictions given a test dataset and a summarized training dataset.\n",
    "5. __Evaluate Accuracy__: Evaluate the accuracy of predictions made for a test dataset as the percentage correct out of all predictions made.\n",
    "6. __Tie It Together__: Use all of the code elements to present a complete and standalone implementation of the Naive Bayes algorithm."
   ]
  },
  {
   "cell_type": "code",
   "execution_count": null,
   "metadata": {},
   "outputs": [],
   "source": []
  }
 ],
 "metadata": {
  "kernelspec": {
   "display_name": "Python 3",
   "language": "python",
   "name": "python3"
  },
  "language_info": {
   "codemirror_mode": {
    "name": "ipython",
    "version": 3
   },
   "file_extension": ".py",
   "mimetype": "text/x-python",
   "name": "python",
   "nbconvert_exporter": "python",
   "pygments_lexer": "ipython3",
   "version": "3.6.8"
  }
 },
 "nbformat": 4,
 "nbformat_minor": 2
}
