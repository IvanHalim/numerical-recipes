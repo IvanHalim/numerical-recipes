{
 "cells": [
  {
   "cell_type": "markdown",
   "metadata": {},
   "source": [
    "# Gradient Boosted Trees\n",
    "\n",
    "Written by: [Prince Grover](https://medium.com/@pgrover3)\n",
    "\n",
    "Although most of the Kaggle competition winners use stack/ensemble of various models, one particular model that is part of most of the ensembles is some variant of Gradient Boosting (GBM) algorithm. Take for an example the winner of latest Kaggle competition: [Michael Jahrer](https://www.kaggle.com/mjahrer)'s solution with representation learning in [__Safe Driver Prediction.__](https://www.kaggle.com/c/porto-seguro-safe-driver-prediction/discussion/44629#250927) His solution was a blend of 6 models. 1 [LightGBM](https://github.com/Microsoft/LightGBM) (a variant of GBM) and 5 Neural Nets. Although his success is attributed to the semi-supervised learning that he used for the structured data, but gradient boosting model has done the useful part too.\n",
    "\n",
    "Even though GBM is being used widely, many practitioners still treat it as a complex black-box algorithm and just run the models using pre-build libraries. The purpose of this post is to simplify a supposedly complex algorithm and to help the reader to understand the algorithm intuitively. I am going to explain the pure vanilla version of the gradient boosting algorithm and will share links for its different variants at the end. I have taken base DecisionTree code from [__fast.ai__](https://github.com/fastai/fastai) library and on top of that, I have built my own simple version of basic gradient boosting model.\n",
    "\n",
    "## Brief description for Ensemble, Bagging and Boosting\n",
    "\n",
    "When we try to predict the target variable using any machine learning technique, the main causes of difference in actual and predicted values are __noise, variance and bias.__ Ensemble helps to reduce these factors (except noise, which is irreducible error)\n",
    "\n",
    "An ensemble is just a collection of predictors which come together (e.g. mean of all predictions) to give a final prediction. The reason we use ensembles is that many different predictors trying to predict the same target variable will perform a better job than any single predictor alone. Ensembling techniques are further classified into Bagging and Boosting.\n",
    "\n",
    "-  __Bagging__ is a simple ensembling technique in which we build many _independent_ predictors/models/learners and combine them using some model averaging techniques. (e.g. weighted average, majority vote or normal average)\n",
    "\n",
    "We typically take random sub-sample/bootstrap of data for each model, so that all the models are little different from each other. _Each observation is chosen with replacement to be used as input for each of the model. So, each model will have different observations based on the bootstrap process._ Because this technique takes many uncorrelated learners to make a final model, it reduces error by reducing variance. Example of bagging ensemble is __Random Forest models.__\n",
    "\n",
    "-  __Boosting__ is an ensemble technique in which the predictors are not made independently, but sequentially.\n",
    "\n",
    "This technique employs the logic in which the subsequent predictors learn from the mistakes of the previous predictors. _Therefore, the observations have an unequal probability of appearing in subsequent models and ones with the highest error appear most. (So the observations are not chosen based on the bootstrap process, but based on the error)._ The predictors can be chosen from a range of models like decision trees, regressors, classifiers etc. Because new predictors are learning from mistakes committed by previous predictors, it takes less time/iterations to reach close to actual predictions. But we have to choose the stopping criteria carefully or it could lead to overfitting on training data. __Gradient Boosting__ is an example of boosting algorithm.\n",
    "\n",
    "<img src='files/img/ensembling.png'>\n",
    "\n",
    "<img src='files/img/bagboost.png'>\n",
    "\n",
    "## Gradient Boosting algorithm\n",
    "\n",
    "_Gradient boosting is a machine learning technique for regression and classification problems, which produces a prediction model in the form of an ensemble of weak prediction models, typically decision trees._ (Wikipedia definition)\n",
    "\n",
    "The objective of any supervised learning algorithm is to define a loss function and minimize it. Let's see how maths work out for Gradient Boosting algorithm. Say we have mean squared error (MSE) as loss defined as:\n",
    "\n",
    "$$Loss = MSE = \\sum(y_i - y_i^p)^2$$\n",
    "\n",
    "where, $y_i = i^{th}$ target value, $y_i^p = i^{th}$ prediction, $L(y_i, y_i^p)$ is Loss function.\n",
    "\n",
    "We want our predictions, such that our loss function (MSE) is minimum. By using __gradient descent__ and updating our predictions based on a learning rate, we can find the values where MSE is minimum.\n",
    "\n",
    "$$y_i^p = y_i^p + \\alpha \\frac{\\partial}{\\partial y_i^p}\\sum(y_i - y_i^p)^2$$\n",
    "\n",
    "which becomes,\n",
    "\n",
    "$$y_i^p = y_i^p - 2 \\alpha \\sum(y_i - y_i^p)$$\n",
    "\n",
    "where, $\\alpha$ is learning rate and $\\sum(y_i - y_i^p)$ is sum of residuals.\n",
    "\n",
    "So, we are basically updating the predictions such that the sum of our residuals is close to 0 (or minimum) and predicted values are sufficiently close to actual values."
   ]
  },
  {
   "cell_type": "code",
   "execution_count": null,
   "metadata": {},
   "outputs": [],
   "source": []
  }
 ],
 "metadata": {
  "kernelspec": {
   "display_name": "Python 3",
   "language": "python",
   "name": "python3"
  },
  "language_info": {
   "codemirror_mode": {
    "name": "ipython",
    "version": 3
   },
   "file_extension": ".py",
   "mimetype": "text/x-python",
   "name": "python",
   "nbconvert_exporter": "python",
   "pygments_lexer": "ipython3",
   "version": "3.6.8"
  }
 },
 "nbformat": 4,
 "nbformat_minor": 2
}
