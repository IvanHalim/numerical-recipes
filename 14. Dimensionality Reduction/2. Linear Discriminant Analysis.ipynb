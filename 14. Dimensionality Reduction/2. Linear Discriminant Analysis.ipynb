{
 "cells": [
  {
   "cell_type": "markdown",
   "metadata": {},
   "source": [
    "# Linear Discriminant Analysis\n",
    "\n",
    "## Introduction\n",
    "\n",
    "Linear Discriminant Analysis (LDA) is most commonly used as dimensionality reduction technique in the pre-processing step for pattern-classification and machine learning applications. The goal is to project a dataset onto a lower-dimensional space with good class-separability in order to avoid overfitting (\"curse of dimensionality\") and also reduce computational costs.\n",
    "\n",
    "__The general LDA approach is very similar to a Principal Component Analysis, but in addition to finding the component axes that maximize the variance of our data (PCA), we are additionally interested in the axes that maximize the separation between multiple classes (LDA).__\n",
    "\n",
    "So, in a nutshell, often the goal of an LDA is to project a feature space (a dataset n-dimensional samples) onto a smaller subspace $k$ (where $k < n$) while maintaining the class-discriminatory information.\n",
    "\n",
    "In general, dimensionality reduction not only helps reducing computational costs for a given classification task, but it is also helpful in avoiding overfitting by minimizing the error in parameter estimation (\"curse of dimensionality\").\n",
    "\n",
    "## Principal Component Analysis vs. Linear Discriminant Analysis\n",
    "\n",
    "Both Linear Discriminant Analysis (LDA) and Principal Component Analysis (PCA) are linear transformation techniques that are commonly used for dimensionality reduction. PCA can be described as an \"unsupervised\" algorithm, since it \"ignores\" class labels and its goal is to find the directions (the so-called principal components) that maximize the variance in a dataset. In contrast to PCA, LDA is \"supervised\" and computes the directions (\"linear discriminants\") that will represent the axes that maximize the separation between multiple classes.\n",
    "\n",
    "Although it might sound intuitive that LDA is superior to PCA for a multi-class classification task where the class labels are known, this might not always be the case.\n",
    "\n",
    "For example, comparisons between classification accuracies for image recognition after using PCA or LDA show that PCA tends to outperform LDA if the number of samples per class is relatively small ([PCA vs. LDA](http://ieeexplore.ieee.org/xpl/articleDetails.jsp?arnumber=908974), A.M. Martinez et al., 2001). In practice, it is also not uncommon to use both LDA and PCA in combination: E.g., PCA for dimensionality reduction followed by an LDA.\n",
    "\n",
    "<img src='files/img/pcavslda.png'>\n",
    "\n",
    "## What is a \"good\" feature subspace?\n",
    "\n",
    "Let's assume that our goal is to reduce the dimensions of a $d$-dimensional dataset by projecting it onto a $k$-dimensional subspace (where $k < d$). So, how do we know what size we should choose for $k$, and how do we know if we have a feature space that represents our data \"well\"?\n",
    "\n",
    "Later, we will compute eigenvectors (the components) from our data set and collect them in a so-called scatter-matrices (i.e., the in-between-class scatter matrix and within-class scatter matrix). Each of these eigenvectors is associated with an eigenvalue, which tells us about the \"length\" or \"magnitude\" of the eigenvectors.\n",
    "\n",
    "If we would observe that all eigenvalues have a similar magnitude, then this may be a good indicator that our data is already projected on a \"good\" feature space.\n",
    "\n",
    "And in the other scenario, if some of the eigenvalues are much larger than others, we might be interested in keeping only those eigenvectors with the highest eigenvalues, since they contain more information about our data distribution. Vice versa, eigenvalues that are close to 0 are less informative and we might consider dropping those for constructing the new feature subspace.\n",
    "\n",
    "## Summarizing the LDA approach in 5 steps\n",
    "\n",
    "Listed below are the 5 general steps for performing a linear discriminant analysis. We will explore them in more details in the following sections.\n",
    "\n",
    "1. Compute the $d$-dimensional mean vectors for the different classes from the dataset.\n",
    "2. Compute the scatter matrices (in-between-class and within-class scatter matrix).\n",
    "3. Compute the eigenvectors ($e_1, e_2, ..., e_d$) and corresponding eigenvalues ($\\lambda_1, \\lambda_2, ..., \\lambda_d$) for the scatter matrices.\n",
    "4. Sort the eigenvectors by decreasing eigenvalues and choose $k$ eigenvectors with the largest eigenvalues to form a $d \\times k$ dimensional matrix $W$ (where every column represents an eigenvector).\n",
    "5. Use this $d \\times k$ eigenvector matrix to transform the samples onto the new subspace. This can be summarized by the matrix multiplication: $Y = X \\cdot W$ (where $X$ is a $n \\times d$-dimensional matrix representing the $n$ samples, and $Y$ are the transformed $n \\times k$-dimensional samples in the new subspace).\n",
    "\n",
    "## Preparing the sample data set\n",
    "\n",
    "For the following tutorial, we will be working with the famous \"Iris\" dataset. The iris dataset contains measurements for 150 iris flowers from three different species.\n",
    "\n",
    "The three classes in the Iris dataset:\n",
    "1. Iris-setosa (n = 50)\n",
    "2. Iris-versicolor (n = 50)\n",
    "3. Iris-virginica (n = 50)\n",
    "\n",
    "The four features of the Iris dataset:\n",
    "1. sepal length in cm\n",
    "2. sepal width in cm\n",
    "3. petal length in cm\n",
    "4. petal width in cm\n",
    "\n",
    "<img src='files/img/iris_petal_sepal.png'>"
   ]
  },
  {
   "cell_type": "code",
   "execution_count": 1,
   "metadata": {},
   "outputs": [
    {
     "data": {
      "text/html": [
       "<div>\n",
       "<style scoped>\n",
       "    .dataframe tbody tr th:only-of-type {\n",
       "        vertical-align: middle;\n",
       "    }\n",
       "\n",
       "    .dataframe tbody tr th {\n",
       "        vertical-align: top;\n",
       "    }\n",
       "\n",
       "    .dataframe thead th {\n",
       "        text-align: right;\n",
       "    }\n",
       "</style>\n",
       "<table border=\"1\" class=\"dataframe\">\n",
       "  <thead>\n",
       "    <tr style=\"text-align: right;\">\n",
       "      <th></th>\n",
       "      <th>sepal length (cm)</th>\n",
       "      <th>sepal width (cm)</th>\n",
       "      <th>petal length (cm)</th>\n",
       "      <th>petal width (cm)</th>\n",
       "      <th>target</th>\n",
       "    </tr>\n",
       "  </thead>\n",
       "  <tbody>\n",
       "    <tr>\n",
       "      <th>145</th>\n",
       "      <td>6.7</td>\n",
       "      <td>3.0</td>\n",
       "      <td>5.2</td>\n",
       "      <td>2.3</td>\n",
       "      <td>2.0</td>\n",
       "    </tr>\n",
       "    <tr>\n",
       "      <th>146</th>\n",
       "      <td>6.3</td>\n",
       "      <td>2.5</td>\n",
       "      <td>5.0</td>\n",
       "      <td>1.9</td>\n",
       "      <td>2.0</td>\n",
       "    </tr>\n",
       "    <tr>\n",
       "      <th>147</th>\n",
       "      <td>6.5</td>\n",
       "      <td>3.0</td>\n",
       "      <td>5.2</td>\n",
       "      <td>2.0</td>\n",
       "      <td>2.0</td>\n",
       "    </tr>\n",
       "    <tr>\n",
       "      <th>148</th>\n",
       "      <td>6.2</td>\n",
       "      <td>3.4</td>\n",
       "      <td>5.4</td>\n",
       "      <td>2.3</td>\n",
       "      <td>2.0</td>\n",
       "    </tr>\n",
       "    <tr>\n",
       "      <th>149</th>\n",
       "      <td>5.9</td>\n",
       "      <td>3.0</td>\n",
       "      <td>5.1</td>\n",
       "      <td>1.8</td>\n",
       "      <td>2.0</td>\n",
       "    </tr>\n",
       "  </tbody>\n",
       "</table>\n",
       "</div>"
      ],
      "text/plain": [
       "     sepal length (cm)  sepal width (cm)  petal length (cm)  petal width (cm)  \\\n",
       "145                6.7               3.0                5.2               2.3   \n",
       "146                6.3               2.5                5.0               1.9   \n",
       "147                6.5               3.0                5.2               2.0   \n",
       "148                6.2               3.4                5.4               2.3   \n",
       "149                5.9               3.0                5.1               1.8   \n",
       "\n",
       "     target  \n",
       "145     2.0  \n",
       "146     2.0  \n",
       "147     2.0  \n",
       "148     2.0  \n",
       "149     2.0  "
      ]
     },
     "execution_count": 1,
     "metadata": {},
     "output_type": "execute_result"
    }
   ],
   "source": [
    "import numpy as np\n",
    "import pandas as pd\n",
    "from sklearn.datasets import load_iris\n",
    "\n",
    "iris = load_iris()\n",
    "X, y = iris.data, iris.target\n",
    "\n",
    "df = pd.DataFrame(data = np.c_[X, y],\n",
    "                  columns = iris.feature_names + ['target'])\n",
    "df.tail()"
   ]
  },
  {
   "cell_type": "markdown",
   "metadata": {},
   "source": [
    "$\n",
    "X = \n",
    "\\begin{bmatrix}\n",
    "x_{1_{\\text{sepal length}}} & x_{1_{\\text{sepal width}}} & x_{1_{\\text{petal length}}} & x_{1_{\\text{petal width}}} \\\\\n",
    "x_{2_{\\text{sepal length}}} & x_{2_{\\text{sepal width}}} & x_{2_{\\text{petal length}}} & x_{2_{\\text{petal width}}} \\\\\n",
    "... \\\\\n",
    "x_{150_{\\text{sepal length}}} & x_{150_{\\text{sepal width}}} & x_{150_{\\text{petal length}}} & x_{150_{\\text{petal width}}}\n",
    "\\end{bmatrix}, \\quad\n",
    "y = \n",
    "\\begin{bmatrix}\n",
    "\\omega_{\\text{setosa}} \\\\\n",
    "\\omega_{\\text{setosa}} \\\\\n",
    "... \\\\\n",
    "\\omega_{\\text{virginica}}\n",
    "\\end{bmatrix}\n",
    "$\n",
    "\n",
    "## Histograms and feature selection\n",
    "\n",
    "Just to get a rough idea how the samples of our three classes $\\omega_1$, $\\omega_2$ and $\\omega_3$ are distributed, let us visualize the distributions of the four different features in 1-dimensional histograms."
   ]
  },
  {
   "cell_type": "code",
   "execution_count": 11,
   "metadata": {},
   "outputs": [
    {
     "data": {
      "image/png": "[encoded data removed]",
      "text/plain": [
       "<Figure size 864x504 with 4 Axes>"
      ]
     },
     "metadata": {
      "needs_background": "light"
     },
     "output_type": "display_data"
    }
   ],
   "source": [
    "import matplotlib.pyplot as plt\n",
    "import math\n",
    "\n",
    "fig, axes = plt.subplots(nrows=2, ncols=2, figsize=(12, 7))\n",
    "\n",
    "for idx, ax in enumerate(axes.ravel()):\n",
    "    \n",
    "    # Set bin sizes\n",
    "    min_b = math.floor(np.min(X[:, idx]))\n",
    "    max_b = math.ceil(np.max(X[:, idx]))\n",
    "    bins = np.linspace(min_b, max_b, 25)\n",
    "    \n",
    "    # Plotting the histograms\n",
    "    for label, color in enumerate(('blue', 'red', 'green')):\n",
    "        ax.hist(X[y==label, idx], color=color, bins=bins,\n",
    "                label=iris.target_names[label], alpha=0.5)\n",
    "        \n",
    "    # Plot annotation\n",
    "    ax.legend(loc='upper right')\n",
    "    ax.set_xlabel(iris.feature_names[idx])\n",
    "    ax.set_ylabel('Count')\n",
    "    ax.set_title(f'Iris Histogram {idx + 1}')\n",
    "    \n",
    "    # hide axis ticks\n",
    "    ax.tick_params(axis=\"both\", which=\"both\", bottom=False, top=False,  \n",
    "            labelbottom=True, left=False, right=False, labelleft=True)\n",
    "    \n",
    "    # remove axis spines\n",
    "    ax.spines[\"top\"].set_visible(False)  \n",
    "    ax.spines[\"right\"].set_visible(False)\n",
    "    ax.spines[\"bottom\"].set_visible(False)\n",
    "    ax.spines[\"left\"].set_visible(False) \n",
    "    \n",
    "fig.tight_layout()\n",
    "plt.show()"
   ]
  },
  {
   "cell_type": "markdown",
   "metadata": {},
   "source": [
    "From just looking at these simple graphical representations of the features, we can already tell that the petal lengths and widths are likely better suited as potential features to separate between the three flower classes. In practice, instead of reducing the dimensionality via a projection (here: LDA), a good alternative would be a feature selection technique. For low-dimensional datasets like Iris, a glance at those histograms would already be very informative. Another simple, but very useful technique would be to use feature selection algorithms.\n",
    "\n",
    "## Normality assumptions\n",
    "\n",
    "It should be mentioned that LDA assumes normally distributed data, features that are statistically independent and identical covariance matrices for every class. However, this only applies for LDA as classifier, and LDA for dimensionality reduction can also work reasonably well even if those assumptions are violated. And even for classification tasks LDA can be quite robust to the distribution of the data:\n",
    "\n",
    "_\"Linear discriminant analysis frequently achieves good performances in the tasks of face and object recognition, even though the assumptions of common covariance matrix among groups and normality are often violated (Duda, et al., 2001)\"_ (Tao Li, et al., 2006)\n",
    "\n",
    "## LDA in 5 steps\n",
    "\n",
    "After we went through several preparation steps, our data is finally ready for the actual LDA. In practice, LDA for dimensionality reduction would be just another preprocessing step for a typical machine learning or pattern classification task.\n",
    "\n",
    "### Step 1: Computing the d-dimensional mean vectors\n",
    "\n",
    "In this first step, we will start off with a simple computation of the mean vectors $m_i, (i = 0,1,2)$ of the 3 different flower classes:\n",
    "\n",
    "$$\n",
    "m_i =\n",
    "\\begin{bmatrix}\n",
    "\\mu_{\\omega_i \\text{(sepal length)}} \\\\\n",
    "\\mu_{\\omega_i \\text{(sepal width)}} \\\\\n",
    "\\mu_{\\omega_i \\text{(petal length)}} \\\\\n",
    "\\mu_{\\omega_i \\text{(petal width)}}\n",
    "\\end{bmatrix}, \\quad\n",
    "\\text{with} \\space i = 0,1,2\n",
    "$$"
   ]
  },
  {
   "cell_type": "code",
   "execution_count": 3,
   "metadata": {},
   "outputs": [
    {
     "data": {
      "text/plain": [
       "array([[5.006, 3.428, 1.462, 0.246],\n",
       "       [5.936, 2.77 , 4.26 , 1.326],\n",
       "       [6.588, 2.974, 5.552, 2.026]])"
      ]
     },
     "execution_count": 3,
     "metadata": {},
     "output_type": "execute_result"
    }
   ],
   "source": [
    "mean_vectors = np.array([np.mean(X[y==label], axis=0) for label in range(3)])\n",
    "mean_vectors"
   ]
  },
  {
   "cell_type": "markdown",
   "metadata": {},
   "source": [
    "### Step 2: Computing the Scatter Matrices\n",
    "\n",
    "Now, we will compute the two _4x4_-dimensional matrices: The within-class and the between-class scatter matrix.\n",
    "\n",
    "#### 2.1 Within-class scatter matrix $S_W$\n",
    "\n",
    "The __within-class scatter__ matrix $S_W$ is computed by the following equation:\n",
    "\n",
    "$$S_W = \\sum_{i=1}^c S_i$$\n",
    "\n",
    "where\n",
    "\n",
    "$S_i = \\sum_{x \\in D_i}^n (x-m_i)^T (x-m_i)$ (scatter matrix for every class)\n",
    "\n",
    "and $m_i$ is the mean vector\n",
    "\n",
    "$m_i = \\frac{1}{n_i} \\sum_{x \\in D_i}^n x_k$"
   ]
  },
  {
   "cell_type": "code",
   "execution_count": 4,
   "metadata": {},
   "outputs": [
    {
     "data": {
      "text/plain": [
       "array([[38.9562, 13.63  , 24.6246,  5.645 ],\n",
       "       [13.63  , 16.962 ,  8.1208,  4.8084],\n",
       "       [24.6246,  8.1208, 27.2226,  6.2718],\n",
       "       [ 5.645 ,  4.8084,  6.2718,  6.1566]])"
      ]
     },
     "execution_count": 4,
     "metadata": {},
     "output_type": "execute_result"
    }
   ],
   "source": [
    "S_W = np.sum([(X[y==label] - mv).T.dot(X[y==label] - mv) for label, mv in enumerate(mean_vectors)], axis=0)\n",
    "S_W"
   ]
  },
  {
   "cell_type": "markdown",
   "metadata": {},
   "source": [
    "Alternatively, we could also compute the class-covariance matrices my adding the scaling factor $\\frac{1}{N-1}$ to the within-class scatter matrix, so that our equation becomes\n",
    "\n",
    "$\\Sigma_i = \\frac{1}{N_i-1} \\sum_{x \\in D_i}^n (x-m_i)^T (x-m_i)$\n",
    "\n",
    "and $S_W = \\sum_{i=1}^c (N_i-1)\\Sigma_i$\n",
    "\n",
    "where $N_i$ is the sample size of the respective class (here: 50), and in particular case, we can drop the term $(N_i-1)$ since all classes have the same sample size.\n",
    "\n",
    "However, the resulting eigenspaces will be identical (identical eigenvectors, only the eigenvalues are scaled differently by a constant factor).\n",
    "\n",
    "### 2.2 Between-class scatter matrix $S_B$\n",
    "\n",
    "The __between-class scatter__ matrix $S_B$ is computed by the following equation:\n",
    "\n",
    "$$S_B = \\sum_{i=1}^c N_i (m_i - m)^T (m_i - m)$$\n",
    "\n",
    "where $m$ is the overall mean, and $m_i$ and $N_i$ are the sample mean and sizes of the respective classes."
   ]
  },
  {
   "cell_type": "code",
   "execution_count": 5,
   "metadata": {},
   "outputs": [
    {
     "data": {
      "text/plain": [
       "array([[ 63.21213333, -19.95266667, 165.2484    ,  71.27933333],\n",
       "       [-19.95266667,  11.34493333, -57.2396    , -22.93266667],\n",
       "       [165.2484    , -57.2396    , 437.1028    , 186.774     ],\n",
       "       [ 71.27933333, -22.93266667, 186.774     ,  80.41333333]])"
      ]
     },
     "execution_count": 5,
     "metadata": {},
     "output_type": "execute_result"
    }
   ],
   "source": [
    "overall_mean = np.mean(X, axis=0)\n",
    "\n",
    "S_B = np.sum([len(X[y==label]) * (mv - overall_mean)[:, None].dot((mv - overall_mean)[None, :]) for label, mv in enumerate(mean_vectors)], axis=0)\n",
    "S_B"
   ]
  },
  {
   "cell_type": "markdown",
   "metadata": {},
   "source": [
    "## Step 3: Solving the generalized eigenvalue problem for the matrix $S_W^{-1}S_B$\n",
    "\n",
    "Next, we will solve the generalized eigenvalue problem for the matrix $S_W^{-1}S_B$ to obtain the linear discriminants."
   ]
  },
  {
   "cell_type": "code",
   "execution_count": 6,
   "metadata": {},
   "outputs": [
    {
     "name": "stdout",
     "output_type": "stream",
     "text": [
      "Eigenvector 1:\n",
      "[-0.20874182 -0.38620369  0.55401172  0.7073504 ]\n",
      "Eigenvalue 1: 32.191929198278025\n",
      "----------------------------------------\n",
      "Eigenvector 2:\n",
      "[-0.00653196 -0.58661055  0.25256154 -0.76945309]\n",
      "Eigenvalue 2: 0.28539104262306975\n",
      "----------------------------------------\n",
      "Eigenvector 3:\n",
      "[ 0.87924206 -0.32816889 -0.31374947 -0.1442215 ]\n",
      "Eigenvalue 3: -1.6067824368826592e-15\n",
      "----------------------------------------\n",
      "Eigenvector 4:\n",
      "[ 0.15169622  0.28172319  0.35490222 -0.87844448]\n",
      "Eigenvalue 4: -9.195837483528325e-15\n",
      "----------------------------------------\n"
     ]
    }
   ],
   "source": [
    "eig_vals, eig_vecs = np.linalg.eig(np.linalg.inv(S_W).dot(S_B))\n",
    "\n",
    "for i in range(len(eig_vals)):\n",
    "    print(f'Eigenvector {i+1}:\\n{eig_vecs[:, i]}')\n",
    "    print(f'Eigenvalue {i+1}: {eig_vals[i]}')\n",
    "    print(40 * '-')"
   ]
  },
  {
   "cell_type": "markdown",
   "metadata": {},
   "source": [
    "#### Note\n",
    "\n",
    "Depending on which version of NumPy and LAPACK we are using, we may obtain the matrix $W$ with its signs flipped. Please note that this is not an issue. If $v$ is an eigenvector of a matrix $\\Sigma$, we have\n",
    "\n",
    "$$\\Sigma v = \\lambda v$$\n",
    "\n",
    "Here, $\\lambda$ is the eigenvalue, and $v$ is also an eigenvector that has the same eigenvvalue, since\n",
    "\n",
    "$$\\Sigma(-v) = - \\Sigma(v) = -\\lambda v = \\lambda(-v)$$\n",
    "\n",
    "After this decomposition of our square matrix into eigenvectors and eigenvalues, let us briefly recapitulate how we can interpret those results. As we remember from our first linear algebra class in high school or college, both eigenvectors and eigenvalues are providing us with information about the distortion of a linear transformation: The eigenvectors are basically the direction of this distortion, and the eigenvalues are the scaling factor for the eigenvectors that describes the magnitude of the distortion.\n",
    "\n",
    "If we are performing the LDA for dimensionality reduction, the eigenvectors are important since they will form the new axes of our new feature subspace. The associated eigenvalues are of particular interest since they will tell us how \"informative\" the new \"axes\" are.\n",
    "\n",
    "Let us briefly double-check our calculation and talk more about the eigenvalues in the next section.\n",
    "\n",
    "### Checking the eigenvector-eigenvalue calculation\n",
    "\n",
    "A quick check that the eigenvector-eigenvalue calculation is correct and satisfy the equation:\n",
    "\n",
    "$$Av = \\lambda v$$\n",
    "\n",
    "where\n",
    "-  $A = S_W^{-1} S_B$\n",
    "-  $v = \\text{Eigenvector}$\n",
    "-  $\\lambda = \\text{Eigenvalue}$"
   ]
  },
  {
   "cell_type": "code",
   "execution_count": 7,
   "metadata": {},
   "outputs": [],
   "source": [
    "for i, eigval in enumerate(eig_vals):\n",
    "    eigvec = eig_vecs[:, i]\n",
    "    np.testing.assert_array_almost_equal(np.linalg.inv(S_W).dot(S_B).dot(eigvec),\n",
    "                                         eigval * eigvec,\n",
    "                                         decimal=6, err_msg='', verbose=True)"
   ]
  },
  {
   "cell_type": "markdown",
   "metadata": {},
   "source": [
    "## Step 4: Selecting linear discriminants for the new feature subspace\n",
    "\n",
    "### 4.1. Sorting the eigenvectors by decreasing eigenvalues\n",
    "\n",
    "Remember from the introduction that we are not only interested in merely projecting the data into a subspace that improves the class separability, but also reduces the dimensionality of our feature space, (where the eigenvectors will form the axes of this new feature subspace).\n",
    "\n",
    "However, the eigenvectors only define the directions of the new axis, since they have all the same unit length 1.\n",
    "\n",
    "So, in order to decide which eigenvector(s) we want to drop for our lower-dimensional subspace, we have to take a look at the corresponding eigenvalues of the eigenvectors. Roughly speaking, the eigenvectors with the lowest eigenvalues bear the least information about the distribution of the data, and those are the ones we want to drop.\n",
    "\n",
    "The common approach is to rank the eigenvectors from highest to lowest corresponding eigenvalue and choose the top $k$ eigenvectors."
   ]
  },
  {
   "cell_type": "code",
   "execution_count": 8,
   "metadata": {},
   "outputs": [
    {
     "name": "stdout",
     "output_type": "stream",
     "text": [
      "32.191929198278025\n",
      "0.28539104262306975\n",
      "9.195837483528325e-15\n",
      "1.6067824368826592e-15\n"
     ]
    }
   ],
   "source": [
    "# Make a list of (eigenvalue, eigenvector) tuples\n",
    "eig_pairs = list(zip(np.abs(eig_vals), eig_vecs.T))\n",
    "\n",
    "# Sort the (eigenvalue, eigenvector) tuples from high to low\n",
    "eig_pairs.sort(key=lambda x: x[0], reverse=True)\n",
    "\n",
    "# Visually confirm that the list is correctly sorted by decreasing eigenvalues\n",
    "for eval, _ in eig_pairs:\n",
    "    print(eval)"
   ]
  },
  {
   "cell_type": "markdown",
   "metadata": {},
   "source": [
    "#### Note\n",
    "\n",
    "If we take a look at the eigenvalues, we can already see that 2 eigenvalues are close to 0. The reason why these are close to 0 is not that they are not informative but it's due to floating-point imprecision. In fact, these two last eigenvalues should be exactly zero: In LDA, the number of linear discriminants is at most $c-1$ where $c$ is the number of class labels, since the in-between scatter matrix $S_B$ is the sum of $c$ matrices with rank one or less. Note that in the rare case of perfect collinearity (all aligned sample points fall on a straight line), the covariance matrix would have rank one, which would result in only one eigenvector with a nonzero eigenvalue.\n",
    "\n",
    "Now, let's express the \"explained variance\" as percentage:"
   ]
  },
  {
   "cell_type": "code",
   "execution_count": 9,
   "metadata": {
    "scrolled": true
   },
   "outputs": [
    {
     "data": {
      "image/png": "[encoded data removed]",
      "text/plain": [
       "<Figure size 432x288 with 1 Axes>"
      ]
     },
     "metadata": {
      "needs_background": "light"
     },
     "output_type": "display_data"
    }
   ],
   "source": [
    "explained_variance_ratio = sorted(eig_vals, reverse=True) / sum(eig_vals)\n",
    "\n",
    "plt.plot(np.cumsum(explained_variance_ratio))\n",
    "plt.xlabel('Number of Components')\n",
    "plt.ylabel('Variance (%)')\n",
    "plt.title('Explained Variance')\n",
    "plt.show()"
   ]
  },
  {
   "cell_type": "markdown",
   "metadata": {},
   "source": [
    "The first eigenvector is by far the most informative one, and we won't lose much information if we would form a 1D-feature space based on this eigenvector.\n",
    "\n",
    "### 4.2 Choosing _k_ eigenvectors with the largest eigenvalues\n",
    "\n",
    "After sorting the eigenpairs by decreasing eigenvalues, it is now time to construct our $k \\times d$-dimensional eigenvector matrix $W$ (here $4 \\times 2$ based on the 2 most informative eigenpairs) and thereby reducing the initial 4-dimensional feature space into a 2-dimensional feature subspace."
   ]
  },
  {
   "cell_type": "code",
   "execution_count": 10,
   "metadata": {},
   "outputs": [
    {
     "data": {
      "text/plain": [
       "array([[-0.20874182, -0.00653196],\n",
       "       [-0.38620369, -0.58661055],\n",
       "       [ 0.55401172,  0.25256154],\n",
       "       [ 0.7073504 , -0.76945309]])"
      ]
     },
     "execution_count": 10,
     "metadata": {},
     "output_type": "execute_result"
    }
   ],
   "source": [
    "k = 2 # Number of linear discriminants\n",
    "\n",
    "W = eig_pairs[0][1].reshape(-1, 1)\n",
    "for i in range(1, k):\n",
    "    W = np.hstack((W, eig_pairs[i][1].reshape(-1, 1)))\n",
    "\n",
    "W"
   ]
  },
  {
   "cell_type": "markdown",
   "metadata": {},
   "source": [
    "## Step 5: Transforming the samples onto the new subspace\n",
    "\n",
    "In the last step, we use the $4 \\times 2$-dimensional matrix $W$ that we just computed to transform our samples onto the new subspace via the equation\n",
    "\n",
    "$$Y = X \\cdot W$$\n",
    "\n",
    "where $X$ is the $n \\times d$-dimensional matrix representing the $n$ samples, and $Y$ is the transformed $n \\times k$-dimensional samples in the new subspace."
   ]
  },
  {
   "cell_type": "code",
   "execution_count": 12,
   "metadata": {},
   "outputs": [],
   "source": [
    "X_lda = X.dot(W)\n",
    "assert X_lda.shape == (150, 2), 'The matrix is not 150x2 dimensional.'"
   ]
  },
  {
   "cell_type": "code",
   "execution_count": null,
   "metadata": {},
   "outputs": [],
   "source": []
  }
 ],
 "metadata": {
  "@webio": {
   "lastCommId": null,
   "lastKernelId": null
  },
  "kernelspec": {
   "display_name": "Python 3",
   "language": "python",
   "name": "python3"
  },
  "language_info": {
   "codemirror_mode": {
    "name": "ipython",
    "version": 3
   },
   "file_extension": ".py",
   "mimetype": "text/x-python",
   "name": "python",
   "nbconvert_exporter": "python",
   "pygments_lexer": "ipython3",
   "version": "3.6.8"
  }
 },
 "nbformat": 4,
 "nbformat_minor": 2
}
