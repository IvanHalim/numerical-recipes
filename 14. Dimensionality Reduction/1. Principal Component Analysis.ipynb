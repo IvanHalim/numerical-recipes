{
 "cells": [
  {
   "cell_type": "markdown",
   "metadata": {},
   "source": [
    "# Implementing a Principal Component Analysis (PCA)\n",
    "\n",
    "## Introduction\n",
    "\n",
    "The main purposes of a principal component analysis are the analysis of data to identify patterns and finding patterns to reduce the dimensions of the dataset with minimal loss of information.\n",
    "\n",
    "Here, our desired outcome of the principal component analysis is to project a feature space (our dataset consisting of $n$ $d$-dimensional samples) onto a smaller subspace that represents our data \"well\". A possible application would be a pattern classification task, where we want to reduce the computational costs and the error of the parameter estimation by reducing the number of dimensions of our feature space by extracting a subspace that describes our data \"best\".\n",
    "\n",
    "### What is a \"good\" subspace?\n",
    "\n",
    "Let's assume that our goal is to reduce the dimensions of a $d$-dimensional dataset by projecting it onto a $k$-dimensional subspace (where $k < d$). So, how do we know what size we would choose for $k$, and how do we know if we have a feature space that represents our data \"well\"? Later, we will compute eigenvectors (the components) from our dataset and collect them in a so-called scatter-matrix (or alternatively calculate them from the covariance matrix). Each of those eigenvectors is associated with an eigenvalue, which tells us about the \"length\" or \"magnitude\" of the eigenvectors. If we observe that all the eigenvalues are of very similar magnitude, this is a good indicator that our data is already in a \"good\" subspace. Or if some of the eigenvalues are much higher than others, we might be interested in keeping only those eigenvectors with the much larger eigenvalues, since they contain more information about our data distribution. Vice versa, eigenvalues that are close to 0 are less informative and we might consider in dropping those when we construct the new feature subspace.\n",
    "\n",
    "### Summarizing the PCA approach\n",
    "\n",
    "Listed below are the 6 general steps for performing a principal component analysis, which we will investigate in the following sections.\n",
    "\n",
    "1. Take the whole dataset consisting of $d$-dimensional samples ignoring the class labels\n",
    "2. Compute the $d$-dimensional mean vector (i.e. the means for every dimension of the whole dataset)\n",
    "3. Compute the scatter matrix (alternatively, the covariance matrix) of the whole dataset\n",
    "4. Compute eigenvectors ($e_1,e_2,...,e_d$) and corresponding eigenvalues ($\\lambda_1,\\lambda_2,...,\\lambda_d$)\n",
    "5. Sort the eigenvectors by decreasing eigenvalues and choose $k$ eigenvectors with the largest eigenvalues to form a $d \\times k$ dimensional matrix $W$ (where every column represents an eigenvector)\n",
    "6. Use this $d \\times k$ eigenvector matrix to transform the samples onto the new subspace. This can be summarized by the mathematical equation: $y=W^T \\times x$ (where $x$ is a $d \\times 1$-dimensional vector representing one sample, and $y$ is the transformed $k \\times 1$-dimensional sample in the new subspace.)\n",
    "\n",
    "## Generating some 3-dimensional sample data\n",
    "\n",
    "For the following example, we will generate 40 3-dimensional samples randomly drawn from a multivariate Gaussian distribution.\n",
    "\n",
    "Here we will assume that the samples stem from two different classes, where one half (i.e. 20) samples of our dataset are labeled $\\omega_1$ (class 1) and the other half $\\omega_2$ (class 2).\n",
    "\n",
    "$\n",
    "\\mu_1 = \n",
    "\\begin{bmatrix}\n",
    "0 \\\\\n",
    "0 \\\\\n",
    "0\n",
    "\\end{bmatrix} \\quad\n",
    "\\mu_2 =\n",
    "\\begin{bmatrix}\n",
    "1 \\\\\n",
    "1 \\\\\n",
    "1\n",
    "\\end{bmatrix} \\quad\n",
    "\\text{(sample means)}\n",
    "$\n",
    "\n",
    "$\n",
    "\\Sigma_1 =\n",
    "\\begin{bmatrix}\n",
    "1 & 0 & 0 \\\\\n",
    "0 & 1 & 0 \\\\\n",
    "0 & 0 & 1\n",
    "\\end{bmatrix} \\quad\n",
    "\\Sigma_2 =\n",
    "\\begin{bmatrix}\n",
    "1 & 0 & 0 \\\\\n",
    "0 & 1 & 0 \\\\\n",
    "0 & 0 & 1\n",
    "\\end{bmatrix} \\quad\n",
    "\\text{(covariance matrices)}\n",
    "$\n",
    "\n",
    "### Why are we choosing a 3-dimensional sample?\n",
    "\n",
    "The problem of multi-dimensional data is its visualization, which would make it quite tough to follow our example principal component analysis (at least visually). We could also choose a 2-dimensional sample dataset for the following examples, but since the goal of the PCA in a \"Dimensionality Reduction\" application is to drop at least one of the dimensions, I find it more intuitive and visually appealing to start with a 3-dimensional dataset that we reduce to a 2-dimensional dataset by dropping 1 dimension."
   ]
  },
  {
   "cell_type": "code",
   "execution_count": 1,
   "metadata": {},
   "outputs": [],
   "source": [
    "import numpy as np\n",
    "\n",
    "mu_vec1 = np.zeros(3)\n",
    "cov_mat1 = np.eye(3)\n",
    "class1_sample = np.random.multivariate_normal(mu_vec1, cov_mat1, 20)\n",
    "assert class1_sample.shape == (20, 3), \"The matrix has not the dimensions 20x3\"\n",
    "\n",
    "mu_vec2 = np.ones(3)\n",
    "cov_mat2 = np.eye(3)\n",
    "class2_sample = np.random.multivariate_normal(mu_vec2, cov_mat2, 20)\n",
    "assert class2_sample.shape == (20, 3), \"The matrix has not the dimensions 20x3\""
   ]
  },
  {
   "cell_type": "markdown",
   "metadata": {},
   "source": [
    "Using the code above, we created two $20 \\times 3$ datasets - one dataset for each class $\\omega_1$ and $\\omega_2$ - where each row can be pictured as a 3-dimensional vector $x = \\begin{pmatrix}x_1 \\\\ x_2 \\\\ x_3 \\end{pmatrix}$ so that our dataset will have the form\n",
    "\n",
    "$\n",
    "X = \n",
    "\\begin{pmatrix}\n",
    "x_{1_1} & x_{2_1} & x_{3_1}\\\\\n",
    "x_{1_2} & x_{2_2} & x_{3_2}\\\\\n",
    "... & ... & ...\\\\\n",
    "x_{1_{20}} & x_{2_{20}} & x_{3_{20}}\\\\\n",
    "\\end{pmatrix}\n",
    "$\n",
    "\n",
    "Just to get a rough idea how the samples of our two classes $\\omega_1$ and $\\omega_2$ are distributed, let us plot them in a 3D scatter plot."
   ]
  },
  {
   "cell_type": "code",
   "execution_count": 2,
   "metadata": {},
   "outputs": [
    {
     "data": {
      "text/plain": [
       "<Figure size 800x800 with 1 Axes>"
      ]
     },
     "metadata": {},
     "output_type": "display_data"
    }
   ],
   "source": [
    "import matplotlib.pyplot as plt\n",
    "from mpl_toolkits.mplot3d import Axes3D\n",
    "from mpl_toolkits.mplot3d import proj3d\n",
    "\n",
    "fig = plt.figure(figsize=(8, 8))\n",
    "ax = fig.add_subplot(111, projection='3d')\n",
    "ax.plot(class1_sample[:, 0], class1_sample[:, 1], class1_sample[:, 2],\n",
    "        'o', markersize=8, color='blue', alpha=0.5, label='class1')\n",
    "ax.plot(class2_sample[:, 0], class2_sample[:, 1], class2_sample[:, 2],\n",
    "        '^', markersize=8, color='red', alpha=0.5, label='class2')\n",
    "\n",
    "plt.title('Samples for class 1 and class 2')\n",
    "ax.legend(loc='upper right')\n",
    "\n",
    "plt.show()"
   ]
  },
  {
   "cell_type": "markdown",
   "metadata": {},
   "source": [
    "## 1. Taking the whole dataset ignoring the class labels\n",
    "\n",
    "Because we don't need class labels for the PCA analysis, let us merge the samples for our 2 classes into on $40 \\times 3$-dimensional array."
   ]
  },
  {
   "cell_type": "code",
   "execution_count": 3,
   "metadata": {},
   "outputs": [],
   "source": [
    "all_samples = np.concatenate((class1_sample, class2_sample))\n",
    "assert all_samples.shape == (40, 3), \"The matrix has not the dimensions 40x3\""
   ]
  },
  {
   "cell_type": "markdown",
   "metadata": {},
   "source": [
    "## 2. Computing the d-dimensional mean vector"
   ]
  },
  {
   "cell_type": "code",
   "execution_count": 4,
   "metadata": {},
   "outputs": [
    {
     "data": {
      "text/plain": [
       "array([0.57230534, 0.43390687, 0.60284004])"
      ]
     },
     "execution_count": 4,
     "metadata": {},
     "output_type": "execute_result"
    }
   ],
   "source": [
    "mean_vector = np.mean(all_samples, axis=0)\n",
    "mean_x, mean_y, mean_z = mean_vector\n",
    "mean_vector"
   ]
  },
  {
   "cell_type": "markdown",
   "metadata": {},
   "source": [
    "## 3. a) Computing the Scatter Matrix\n",
    "\n",
    "The scatter matrix is computed by the following equation:\n",
    "\n",
    "$S = \\sum_{k=1}^n (x_k-m)^T(x_k-m)$\n",
    "\n",
    "where $m$ is the mean vector\n",
    "\n",
    "$m = \\frac{1}{n}\\sum_{k=1}^n x_k$"
   ]
  },
  {
   "cell_type": "code",
   "execution_count": 5,
   "metadata": {},
   "outputs": [
    {
     "data": {
      "text/plain": [
       "array([[68.16367   , 23.65157662, 24.23045124],\n",
       "       [23.65157662, 56.90038119, 16.39643609],\n",
       "       [24.23045124, 16.39643609, 67.02731182]])"
      ]
     },
     "execution_count": 5,
     "metadata": {},
     "output_type": "execute_result"
    }
   ],
   "source": [
    "scatter_matrix = (all_samples - mean_vector).T.dot(all_samples - mean_vector)\n",
    "scatter_matrix"
   ]
  },
  {
   "cell_type": "markdown",
   "metadata": {},
   "source": [
    "## 3. b) Computing the Covariance Matrix (alternatively to the scatter matrix)\n",
    "\n",
    "Alternatively, instead of calculating the scatter matrix, we could also calculate the covariance matrix using the in-built `numpy.cov()` function. The equations for the covariance matrix and scatter matrix are very similar, the only difference is, that we use the scaling factor $\\frac{1}{N-1}$ (here: $\\frac{1}{40-1} = \\frac{1}{39}$) for the covariance matrix. Thus, their ___eigenspaces___ will be identical (identical eigenvectors, only the eigenvalues are scaled differently by a constant factor).\n",
    "\n",
    "$$\n",
    "\\Sigma_i =\n",
    "\\begin{bmatrix}\n",
    "\\sigma_{11}^2 & \\sigma_{12}^2 & \\sigma_{13}^2 \\\\\n",
    "\\sigma_{21}^2 & \\sigma_{22}^2 & \\sigma_{23}^2 \\\\\n",
    "\\sigma_{31}^2 & \\sigma_{32}^2 & \\sigma_{33}^2\n",
    "\\end{bmatrix}\n",
    "$$"
   ]
  },
  {
   "cell_type": "code",
   "execution_count": 6,
   "metadata": {},
   "outputs": [
    {
     "data": {
      "text/plain": [
       "array([[1.74778641, 0.60645068, 0.62129362],\n",
       "       [0.60645068, 1.45898413, 0.42042144],\n",
       "       [0.62129362, 0.42042144, 1.71864902]])"
      ]
     },
     "execution_count": 6,
     "metadata": {},
     "output_type": "execute_result"
    }
   ],
   "source": [
    "cov_mat = np.cov(all_samples.T)\n",
    "cov_mat"
   ]
  },
  {
   "cell_type": "markdown",
   "metadata": {},
   "source": [
    "## 4. Computing eigenvectors and corresponding eigenvalues\n",
    "\n",
    "To show that the eigenvectors are indeed identical whether we derived them from the scatter or the covariance matrix, let us put an assert statement into the code. Also, we will see that the eigenvalues were indeed scaled by the factor 39 when we derived it from the scatter matrix."
   ]
  },
  {
   "cell_type": "code",
   "execution_count": 7,
   "metadata": {},
   "outputs": [
    {
     "name": "stdout",
     "output_type": "stream",
     "text": [
      "Eigenvector 1:\n",
      "[-0.68950445  0.70208739  0.17792388]\n",
      "Eigenvalue 1 from scatter matrix: 107.77281241807017\n",
      "Eigenvalue 1 from covariance matrix: 2.7634054466171816\n",
      "Scaling factor: 39.0\n",
      "----------------------------------------\n",
      "Eigenvector 2:\n",
      "[-0.68950445  0.70208739  0.17792388]\n",
      "Eigenvalue 2 from scatter matrix: 37.827898248055824\n",
      "Eigenvalue 2 from covariance matrix: 0.9699461089245079\n",
      "Scaling factor: 39.0\n",
      "----------------------------------------\n",
      "Eigenvector 3:\n",
      "[-0.68950445  0.70208739  0.17792388]\n",
      "Eigenvalue 3 from scatter matrix: 46.49065234980028\n",
      "Eigenvalue 3 from covariance matrix: 1.1920680089692377\n",
      "Scaling factor: 39.0\n",
      "----------------------------------------\n"
     ]
    }
   ],
   "source": [
    "# eigenvectors and eigenvalues from the scatter matrix\n",
    "eig_val_sc, eig_vec_sc = np.linalg.eig(scatter_matrix)\n",
    "\n",
    "# eigenvectors and eigenvalues from the covariance matrix\n",
    "eig_val_cov, eig_vec_cov = np.linalg.eig(cov_mat)\n",
    "\n",
    "np.testing.assert_array_almost_equal(eig_vec_sc, eig_vec_cov, decimal=8, verbose=True,\n",
    "                                     err_msg='Eigenvectors are not identical')\n",
    "\n",
    "for i in range(len(eig_val_sc)):\n",
    "    print(f'Eigenvector {i+1}:\\n{eig_vec_sc[:, 1]}')\n",
    "    print(f'Eigenvalue {i+1} from scatter matrix: {eig_val_sc[i]}')\n",
    "    print(f'Eigenvalue {i+1} from covariance matrix: {eig_val_cov[i]}')\n",
    "    print(f'Scaling factor: {np.round(eig_val_sc[i] / eig_val_cov[i], decimals=2)}')\n",
    "    print(40 * '-')"
   ]
  },
  {
   "cell_type": "markdown",
   "metadata": {},
   "source": [
    "### Checking the eigenvector-eigenvalue calculation\n",
    "\n",
    "Let us quickly check that the eigenvector-eigenvalue calculation is correct and satisfy the equation\n",
    "\n",
    "$$\\Sigma v = \\lambda v$$\n",
    "\n",
    "where\n",
    "\n",
    "-  $\\Sigma = \\text{Covariance Matrix}$\n",
    "-  $v = \\text{Eigenvector}$\n",
    "-  $\\lambda = \\text{Eigenvalue}$"
   ]
  },
  {
   "cell_type": "code",
   "execution_count": 8,
   "metadata": {},
   "outputs": [],
   "source": [
    "for i in range(len(eig_val_sc)):\n",
    "    eigv = eig_vec_sc[:, i]\n",
    "    np.testing.assert_array_almost_equal(scatter_matrix.dot(eigv), eig_val_sc[i] * eigv,\n",
    "                                         decimal=6, err_msg='', verbose=True)"
   ]
  },
  {
   "cell_type": "markdown",
   "metadata": {},
   "source": [
    "### Visualizing the eigenvectors\n",
    "\n",
    "And before we move on to the next step, just to satisfy our own curiosity, we plot the eigenvectors centered at the sample mean."
   ]
  },
  {
   "cell_type": "code",
   "execution_count": 9,
   "metadata": {},
   "outputs": [
    {
     "data": {
      "image/png": "[encoded data removed]",
      "text/plain": [
       "<Figure size 504x504 with 1 Axes>"
      ]
     },
     "metadata": {
      "needs_background": "light"
     },
     "output_type": "display_data"
    }
   ],
   "source": [
    "import matplotlib.pyplot as plt\n",
    "from mpl_toolkits.mplot3d import Axes3D\n",
    "from mpl_toolkits.mplot3d import proj3d\n",
    "from matplotlib.patches import FancyArrowPatch\n",
    "\n",
    "class Arrow3D(FancyArrowPatch):\n",
    "    def __init__(self, xs, ys, zs, *args, **kwargs):\n",
    "        FancyArrowPatch.__init__(self, (0, 0), (0, 0), *args, **kwargs)\n",
    "        self._verts3d = xs, ys, zs\n",
    "        \n",
    "    def draw(self, renderer):\n",
    "        xs3d, ys3d, zs3d = self._verts3d\n",
    "        xs, ys, zs = proj3d.proj_transform(xs3d, ys3d, zs3d, renderer.M)\n",
    "        self.set_positions((xs[0], ys[0]), (xs[1], ys[1]))\n",
    "        FancyArrowPatch.draw(self, renderer)\n",
    "        \n",
    "fig = plt.figure(figsize=(7, 7))\n",
    "ax = fig.add_subplot(111, projection='3d')\n",
    "\n",
    "ax.plot(all_samples[:, 0], all_samples[:, 1], all_samples[:, 2],\n",
    "        'o', markersize=8, color='green', alpha=0.2)\n",
    "ax.plot([mean_x], [mean_y], [mean_y],\n",
    "        'o', markersize=10, color='red', alpha=0.5)\n",
    "\n",
    "for eigv in eig_vec_sc.T:\n",
    "    a = Arrow3D([mean_x, eigv[0]], [mean_y, eigv[1]], [mean_z, eigv[2]],\n",
    "                mutation_scale=20, lw=3, arrowstyle='-|>', color='r')\n",
    "    ax.add_artist(a)\n",
    "    \n",
    "ax.set_xlabel('x values')\n",
    "ax.set_ylabel('y values')\n",
    "ax.set_zlabel('z values')\n",
    "\n",
    "plt.title('Eigenvectors')\n",
    "plt.show()"
   ]
  },
  {
   "cell_type": "markdown",
   "metadata": {},
   "source": [
    "## 5.1. Sorting the eigenvectors by decreasing eigenvalues\n",
    "\n",
    "We started with the goal to reduce the dimensionality of our feature space, i.e., projecting the feature space via PCA onto a smaller subspace, where the eigenvectors will form the axes of this new feature subspace. However, the eigenvectors only define the directions of the new axis, since they have all the same unit length 1, which we can confirm by the following code:"
   ]
  },
  {
   "cell_type": "code",
   "execution_count": 10,
   "metadata": {},
   "outputs": [],
   "source": [
    "for ev in eig_vec_sc:\n",
    "    assert(np.isclose(1.0, np.linalg.norm(ev)))"
   ]
  },
  {
   "cell_type": "markdown",
   "metadata": {},
   "source": [
    "So, in order to decide which eigenvector(s) we want to drop for our lower-dimensional subspace, we have to take a look at the corresponding eigenvalues of the eigenvectors. Roughly speaking, the eigenvectors with the lowest eigenvalues bear the least information about the distribution of the data, and those are the ones we want to drop.\n",
    "\n",
    "The common approach is to rank the eigenvectors from highest to lowest corresponding eigenvalue and choose the top $k$ eigenvectors."
   ]
  },
  {
   "cell_type": "code",
   "execution_count": 11,
   "metadata": {},
   "outputs": [
    {
     "name": "stdout",
     "output_type": "stream",
     "text": [
      "107.77281241807017\n",
      "46.49065234980028\n",
      "37.827898248055824\n"
     ]
    }
   ],
   "source": [
    "# Make a list of (eigenvalue, eigenvector) tuples\n",
    "eig_pairs = list(zip(eig_val_sc, eig_vec_sc.T))\n",
    "\n",
    "# Sort the (eigenvalue, eigenvector) tuples from high to low\n",
    "eig_pairs.sort(key=lambda x: x[0], reverse=True)\n",
    "\n",
    "# Visually confirm that the list is correctly sorted by decreasing eigenvalues\n",
    "for eval, _ in eig_pairs:\n",
    "    print(eval)"
   ]
  },
  {
   "cell_type": "markdown",
   "metadata": {},
   "source": [
    "## 5.2. Choosing _k_ eigenvectors with the largest eigenvalues\n",
    "\n",
    "For our simple example, where we are reducing a 3-dimensional feature space to a 2-dimensional feature subspace, we are combining the two eigenvectors with the highest eigenvalues to construct our $d \\times k$-dimensional eigenvector matrix $W$."
   ]
  },
  {
   "cell_type": "code",
   "execution_count": 12,
   "metadata": {},
   "outputs": [
    {
     "data": {
      "text/plain": [
       "array([[-0.64874004, -0.32205586],\n",
       "       [-0.48943329, -0.51723142],\n",
       "       [-0.58274473,  0.79293864]])"
      ]
     },
     "execution_count": 12,
     "metadata": {},
     "output_type": "execute_result"
    }
   ],
   "source": [
    "matrix_w = np.hstack((eig_pairs[0][1].reshape(-1, 1), eig_pairs[1][1].reshape(-1, 1)))\n",
    "matrix_w"
   ]
  },
  {
   "cell_type": "code",
   "execution_count": null,
   "metadata": {},
   "outputs": [],
   "source": []
  }
 ],
 "metadata": {
  "@webio": {
   "lastCommId": null,
   "lastKernelId": null
  },
  "kernelspec": {
   "display_name": "Python 3",
   "language": "python",
   "name": "python3"
  },
  "language_info": {
   "codemirror_mode": {
    "name": "ipython",
    "version": 3
   },
   "file_extension": ".py",
   "mimetype": "text/x-python",
   "name": "python",
   "nbconvert_exporter": "python",
   "pygments_lexer": "ipython3",
   "version": "3.6.8"
  }
 },
 "nbformat": 4,
 "nbformat_minor": 2
}
