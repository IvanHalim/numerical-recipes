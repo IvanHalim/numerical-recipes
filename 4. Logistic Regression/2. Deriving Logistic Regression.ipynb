{
 "cells": [
  {
   "cell_type": "markdown",
   "metadata": {},
   "source": [
    "## Cost function\n",
    "We've seen that the cost function for logistic regression is:\n",
    "\n",
    "$$J(\\theta) = -\\frac{1}{m} \\sum_{i=0}^m[y^{(i)}\\log(h_\\theta(x^{(i)})) + (1 - y^{(i)})\\log(1 - h_\\theta(x^{(i)}))]$$\n",
    "\n",
    "Where $h_\\theta(x^{(i)})$ is the Sigmoid function. In order to get the update rule, we need to differentiate this. Firstly, we know that\n",
    "\n",
    "$$\\frac{\\partial}{\\partial x} \\sigma(x) = \\sigma(x) \\cdot (1 - \\sigma(x))$$\n",
    "\n",
    "In our case, we want to partial differentiate with respect to our parameters $\\theta$. So we have\n",
    "\n",
    "$$\\frac{\\partial}{\\partial\\theta} \\sigma(z) = \\sigma(z) \\cdot (1 - \\sigma(z)) \\frac{\\partial}{\\partial\\theta}z$$\n",
    "\n",
    "Where,\n",
    "\n",
    "$$z = \\theta_0 + \\theta_1 x_1 + \\theta_2 x_2 + ....$$\n",
    "\n",
    "Therefore,\n",
    "\n",
    "$$\\frac{\\partial}{\\partial\\theta_0}z = 1$$\n",
    "\n",
    "And,\n",
    "\n",
    "$$\\frac{\\partial}{\\partial\\theta_1}z = x_1$$\n",
    "\n",
    "So on and so forth. Thus, our equation would be\n",
    "\n",
    "$$\\frac{\\partial}{\\partial\\theta_i} \\sigma(z) = \\sigma(z) \\cdot (1 - \\sigma(z)) \\cdot x_i$$\n",
    "\n",
    "Where $x_0$ is 1."
   ]
  },
  {
   "cell_type": "markdown",
   "metadata": {},
   "source": [
    "### Differentiating the negative likelihood\n",
    "\n",
    "The way we chose to represent our cost function (by taking logs) is called as negative log likelihood. We'll differentiate it now to obtain the update rule.\n",
    "\n",
    "$\n",
    "\\begin{align}\n",
    "\\frac{\\partial}{\\partial\\theta}J(\\theta) &= \\frac{\\partial}{\\partial\\theta}\\left[-\\frac{1}{m}\\sum_{i=0}^m[y^{(i)}\\log(h_\\theta(x^{(i)}))+(1-y^{(i)})\\log(1-h_\\theta(x^{(i)}))]\\right] \\\\\n",
    "&= -\\frac{1}{m}\\sum_{i=0}^m\\left[\\frac{\\partial}{\\partial\\theta}y^{(i)}\\log(h_\\theta(x^{(i)}))+\\frac{\\partial}{\\partial\\theta}(1-y^{(i)})\\log(1-h_\\theta(x^{(i)}))\\right] \\\\\n",
    "&= -\\frac{1}{m}\\sum_{i=0}^m\\left[\\frac{y^{(i)}}{h_\\theta(x^{(i)})}\\frac{\\partial}{\\partial\\theta}h_\\theta(x^{(i)})-\\frac{1-y^{(i)}}{1-h_\\theta(x^{(i)})}\\frac{\\partial}{\\partial\\theta}h_\\theta(x^{(i)})\\right] \\\\\n",
    "\\text{Replacing h with sigma} \\\\\n",
    "&= -\\frac{1}{m}\\sum_{i=0}^m\\left[\\frac{y^{(i)}}{\\sigma(x^{(i)})}\\frac{\\partial}{\\partial\\theta}\\sigma(x^{(i)})-\\frac{1-y^{(i)}}{1-\\sigma(x^{(i)})}\\frac{\\partial}{\\partial\\theta}\\sigma(x^{(i)})\\right] \\\\\n",
    "\\text{Take sigma common} \\\\\n",
    "&= -\\frac{1}{m}\\sum_{i=0}^m\\left[\\left(\\frac{y^{(i)}}{\\sigma(x^{(i)})}-\\frac{1-y^{(i)}}{1-\\sigma(x^{(i)})}\\right)\\frac{\\partial}{\\partial\\theta}\\sigma(x^{(i)})\\right] \\\\\n",
    "&= -\\frac{1}{m}\\sum_{i=0}^m\\left[\\left(\\frac{y^{(i)}-y^{(i)}\\cdot\\sigma(x^{(i)})-\\sigma(x^{(i)})+y^{(i)}\\cdot\\sigma(x^{(i)})}{\\sigma(x^{(i)})\\cdot(1-\\sigma(x^{(i)}))}\\right)\\frac{\\partial}{\\partial\\theta}\\sigma(x^{(i)})\\right] \\\\\n",
    "\\text{Cancel positive and negative terms} \\\\\n",
    "&= -\\frac{1}{m}\\sum_{i=0}^m\\left[\\left(\\frac{y^{(i)}-\\sigma(x^{(i)})}{\\sigma(x^{(i)})\\cdot(1-\\sigma(x^{(i)}))}\\right)\\frac{\\partial}{\\partial\\theta}\\sigma(x^{(i)})\\right] \\\\\n",
    "\\text{We know the gradient of sigma} \\\\\n",
    "&= -\\frac{1}{m}\\sum_{i=0}^m\\left[\\left(\\frac{y^{(i)}-\\sigma(x^{(i)})}{\\sigma(x^{(i)})\\cdot(1-\\sigma(x^{(i)}))}\\right)\\cdot\\sigma(x^{(i)})\\cdot(1-\\sigma(x^{(i)}))\\cdot x^{(i)}_{j}\\right] \\\\\n",
    "\\text{Numerator and Denominator cancel out!} \\\\\n",
    "&= -\\frac{1}{m}\\sum_{i=0}^m(y^{(i)}-\\sigma(x^{(i)}))\\cdot x^{(i)}_{j} \\\\\n",
    "\\end{align}\n",
    "$"
   ]
  },
  {
   "cell_type": "markdown",
   "metadata": {},
   "source": [
    "## Update Rule for thetas\n",
    "\n",
    "Taking the negative sign inside in the last equation, we have our update rule\n",
    "\n",
    "### $ \\begin{align*} & Repeat \\; \\lbrace \\newline & \\; \\theta_j := \\theta_j - \\frac{\\alpha}{m} \\sum_{i=0}^m (\\sigma(x^{(i)})-y^{(i)})\\cdot x^{(i)}_j \\newline & \\rbrace \\end{align*} $"
   ]
  }
 ],
 "metadata": {
  "kernelspec": {
   "display_name": "Python 3",
   "language": "python",
   "name": "python3"
  },
  "language_info": {
   "codemirror_mode": {
    "name": "ipython",
    "version": 3
   },
   "file_extension": ".py",
   "mimetype": "text/x-python",
   "name": "python",
   "nbconvert_exporter": "python",
   "pygments_lexer": "ipython3",
   "version": "3.7.1"
  }
 },
 "nbformat": 4,
 "nbformat_minor": 2
}
