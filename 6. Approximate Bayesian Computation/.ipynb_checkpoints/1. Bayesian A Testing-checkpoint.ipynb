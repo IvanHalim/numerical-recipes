{
 "cells": [
  {
   "cell_type": "markdown",
   "metadata": {},
   "source": [
    "Exercise 1: Bayesian A testing for Swedish Fish Incorporated\n",
    "=======================\n",
    "\n",
    "Swedish Fish Incorporated is the largest Swedish company delivering fish by mail order. They are now trying to get into the lucrative Danish market by selling one year Salmon subscriptions. The marketing department have done a pilot study and tried the following marketing method:\n",
    "\n",
    "**A:** Sending a mail with a colorful brochure that invites people to sign up for a one year salmon subscription.\n",
    "\n",
    "The marketing department sent out 16 mails of type A. Six Danes that received a mail signed up for one year of salmon and marketing now wants to know, how good is method A?"
   ]
  },
  {
   "cell_type": "markdown",
   "metadata": {},
   "source": [
    "Question I, Build a Bayesian model that answers the question: What would the rate of sign-up be if method A was used on a larger number of people?\n",
    "-------------------"
   ]
  },
  {
   "cell_type": "code",
   "execution_count": 5,
   "metadata": {},
   "outputs": [
    {
     "data": {
      "text/plain": [
       "<matplotlib.axes._subplots.AxesSubplot at 0x1c19b4a5278>"
      ]
     },
     "execution_count": 5,
     "metadata": {},
     "output_type": "execute_result"
    },
    {
     "data": {
      "image/png": "[encoded data removed]",
      "text/plain": [
       "<Figure size 432x288 with 1 Axes>"
      ]
     },
     "metadata": {
      "needs_background": "light"
     },
     "output_type": "display_data"
    }
   ],
   "source": [
    "# Import libraries\n",
    "import pandas as pd\n",
    "import numpy as np\n",
    "\n",
    "# Number of random draws from the prior\n",
    "n_draws = 10000\n",
    "\n",
    "# Sample n_draws draws from the prior distribution into a pandas Series (to have convenient\n",
    "# methods available for histograms and descriptive statistics, e.g. median)\n",
    "prior_rate = pd.Series(np.random.uniform(0, 1, size = n_draws))\n",
    "\n",
    "# It's always good to eyeball the prior to make sure it looks ok\n",
    "prior_rate.hist()\n"
   ]
  },
  {
   "cell_type": "code",
   "execution_count": 2,
   "metadata": {},
   "outputs": [
    {
     "name": "stdout",
     "output_type": "stream",
     "text": [
      "Number of draws left: 583\n",
      "Posterior mean: 0.391\n",
      "Posterior median: 0.385\n",
      "Posterior 95% quantile interval: 0.193-0.634\n"
     ]
    },
    {
     "data": {
      "image/png": "[encoded data removed]",
      "text/plain": [
       "<Figure size 432x288 with 1 Axes>"
      ]
     },
     "metadata": {
      "needs_background": "light"
     },
     "output_type": "display_data"
    }
   ],
   "source": [
    "# Defining the generative model\n",
    "def gen_model(prob):\n",
    "    return(np.random.binomial(16,prob))\n",
    "\n",
    "# Simulating the data using the parameters from the prior and the generative model\n",
    "sim_data = [gen_model(p) for p in prior_rate]\n",
    "\n",
    "# Observed data\n",
    "observed_data = 6\n",
    "\n",
    "# Here you filter off all draws that do not match the data\n",
    "post_rate = prior_rate[list(map(lambda x: x == observed_data, sim_data))]\n",
    "\n",
    "post_rate.hist() # Eyeball the posterior\n",
    "\n",
    "# See that we got enough draws left after the filtering.\n",
    "# There are no rules here, but you probably want to aim for >1000 draws.\n",
    "\n",
    "# Now you can summarize the posterior, where a common summary is to take the mean or the median posterior,\n",
    "# and perhaps a 95% quantile interval.\n",
    "\n",
    "print('Number of draws left: %d\\nPosterior mean: %.3f\\nPosterior median: %.3f\\nPosterior 95%% quantile interval: %.3f-%.3f' %\n",
    "      (len(post_rate), post_rate.mean(), post_rate.median(), post_rate.quantile(.025), post_rate.quantile(.975)))"
   ]
  },
  {
   "cell_type": "markdown",
   "metadata": {},
   "source": [
    "Question II, What’s the probability that method A is better than telemarketing?\n",
    "----------------\n",
    "So marketing just told us that the rate of sign-up would be 20% if salmon subscribers were snared by a telemarketing campaign instead (to us it’s very unclear where marketing got this very precise number from). So given the model and the data that we developed in the last question, what’s the probability that method A has a higher rate of sign-up than telemarketing?"
   ]
  },
  {
   "cell_type": "code",
   "execution_count": 3,
   "metadata": {},
   "outputs": [
    {
     "data": {
      "text/plain": [
       "0.9691252144082333"
      ]
     },
     "execution_count": 3,
     "metadata": {},
     "output_type": "execute_result"
    }
   ],
   "source": [
    "sum(post_rate > 0.2) / len(post_rate) # or just np.mean(post_rate > 0.2)"
   ]
  },
  {
   "cell_type": "markdown",
   "metadata": {},
   "source": [
    "Question III, If method A was used on 100 people what would be number of sign-ups?\n",
    "--------------"
   ]
  },
  {
   "cell_type": "code",
   "execution_count": 4,
   "metadata": {},
   "outputs": [
    {
     "name": "stdout",
     "output_type": "stream",
     "text": [
      "Sign-up 95% quantile interval 16-64\n"
     ]
    },
    {
     "data": {
      "image/png": "[encoded data removed]",
      "text/plain": [
       "<Figure size 432x288 with 1 Axes>"
      ]
     },
     "metadata": {
      "needs_background": "light"
     },
     "output_type": "display_data"
    }
   ],
   "source": [
    "# This can be done with a for loop\n",
    "# signups = list()\n",
    "# for p in post_rate:\n",
    "#     signups.append(np.random.binomial(100, p))\n",
    "\n",
    "# But we can write it like this:\n",
    "signups = pd.Series([np.random.binomial(n = 100, p = p) for p in post_rate])\n",
    "\n",
    "signups.hist()\n",
    "print('Sign-up 95%% quantile interval %d-%d' % tuple(signups.quantile([.025, .975]).values))"
   ]
  }
 ],
 "metadata": {
  "kernelspec": {
   "display_name": "Python 3",
   "language": "python",
   "name": "python3"
  },
  "language_info": {
   "codemirror_mode": {
    "name": "ipython",
    "version": 3
   },
   "file_extension": ".py",
   "mimetype": "text/x-python",
   "name": "python",
   "nbconvert_exporter": "python",
   "pygments_lexer": "ipython3",
   "version": "3.7.1"
  }
 },
 "nbformat": 4,
 "nbformat_minor": 2
}
