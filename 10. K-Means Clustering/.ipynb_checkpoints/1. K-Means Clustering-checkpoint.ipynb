{
 "cells": [
  {
   "cell_type": "markdown",
   "metadata": {},
   "source": [
    "# K-Means Clustering in Python\n",
    "\n",
    "Clustering is a type of Unsupervised Learning. This is very often used when you don't have labeled data. K-Means Clustering is one of the popular clustering algorithm. The goal of this algorithm is to find groups (clusters) in the given data. In this post we will implement K-Means algorithm using Python from scratch.\n",
    "\n",
    "## K-Means Clustering\n",
    "\n",
    "K-Means is a very simple algorithm which clusters the data into _K_ number of clusters. The following image from [PyPR](http://pypr.sourceforge.net/kmeans.html#k-means-example) is an example of K-Means Clustering.\n",
    "\n",
    "<img src='files/kmeans.jpg'>\n",
    "\n",
    "### Use Cases\n",
    "\n",
    "K-Means is widely used for many applications.\n",
    "-  Image Segmentation\n",
    "-  Clustering Gene Segmentation Data\n",
    "-  News Article Clustering\n",
    "-  Clustering Languages\n",
    "-  Species Clustering\n",
    "-  Anomaly Detection\n",
    "\n",
    "### Algorithm\n",
    "\n",
    "Our algorithm works as follows, assuming we have inputs $x_1$, $x_2$, $x_3$, ..., $x_n$ and value of _K_\n",
    "-  Step 1 - Pick random _K_ points as cluster centers called centroids.\n",
    "-  Step 2 - Assign each $x_i$ to nearest cluster by calculating its distance to each centroid.\n",
    "-  Step 3 - Find new cluster center by taking the average of the assigned points.\n",
    "-  Step 4 - Repeat Step 2 and 3 until none of the cluster assignments change.\n",
    "\n",
    "<img src='files/kmeans.gif'>"
   ]
  },
  {
   "cell_type": "code",
   "execution_count": null,
   "metadata": {},
   "outputs": [],
   "source": []
  }
 ],
 "metadata": {
  "kernelspec": {
   "display_name": "Python 3",
   "language": "python",
   "name": "python3"
  },
  "language_info": {
   "codemirror_mode": {
    "name": "ipython",
    "version": 3
   },
   "file_extension": ".py",
   "mimetype": "text/x-python",
   "name": "python",
   "nbconvert_exporter": "python",
   "pygments_lexer": "ipython3",
   "version": "3.6.8"
  }
 },
 "nbformat": 4,
 "nbformat_minor": 2
}
