{
 "cells": [
  {
   "cell_type": "markdown",
   "metadata": {},
   "source": [
    "# K-Means Clustering in Python\n",
    "\n",
    "Clustering is a type of Unsupervised Learning. This is very often used when you don't have labeled data. K-Means Clustering is one of the popular clustering algorithm. The goal of this algorithm is to find groups (clusters) in the given data. In this post we will implement K-Means algorithm using Python from scratch.\n",
    "\n",
    "## K-Means Clustering\n",
    "\n",
    "K-Means is a very simple algorithm which clusters the data into _K_ number of clusters. The following image from [PyPR](http://pypr.sourceforge.net/kmeans.html#k-means-example) is an example of K-Means Clustering.\n",
    "\n",
    "<img src='files/kmeans.jpg'>\n",
    "\n",
    "### Use Cases\n",
    "\n",
    "K-Means is widely used for many applications.\n",
    "-  Image Segmentation\n",
    "-  Clustering Gene Segmentation Data\n",
    "-  News Article Clustering\n",
    "-  Clustering Languages\n",
    "-  Species Clustering\n",
    "-  Anomaly Detection\n",
    "\n",
    "### Algorithm\n",
    "\n",
    "Our algorithm works as follows, assuming we have inputs $x_1$, $x_2$, $x_3$, ..., $x_n$ and value of _K_\n",
    "-  Step 1 - Pick random _K_ points as cluster centers called centroids.\n",
    "-  Step 2 - Assign each $x_i$ to nearest cluster by calculating its distance to each centroid.\n",
    "-  Step 3 - Find new cluster center by taking the average of the assigned points.\n",
    "-  Step 4 - Repeat Step 2 and 3 until none of the cluster assignments change.\n",
    "\n",
    "<img src='files/kmeans.gif'>\n",
    "\n",
    "The above animation is an example of running K-Means Clustering on a two dimensional data.\n",
    "\n",
    "#### Step 1\n",
    "\n",
    "We randomly pick _K_ cluster centers (centroids). Let's assume these are $c_1$, $c_2$, ..., $c_k$ and we can say that:\n",
    "\n",
    "$$C = c_1, c_2, ..., c_k$$\n",
    "\n",
    "$C$ is the set of all centroids.\n",
    "\n",
    "#### Step 2\n",
    "\n",
    "In this step we assign each input value to closest center. This is done by calculating Euclidean (L2) distance between the point and each centroid.\n",
    "\n",
    "$$\\underset{c_i \\in C}{\\operatorname{argmax}} dist(c_i, x)^2$$\n",
    "\n",
    "Where $dist(.)$ is the Euclidean distance.\n",
    "\n",
    "#### Step 3\n",
    "\n",
    "In this step, we find the new centroid by taking the average of all the points assigned to that cluster.\n",
    "\n",
    "$$c_i = \\frac{1}{|S_i|}\\sum_{x_i \\in S_i} x_i$$\n",
    "\n",
    "$S_i$ is the set of all points assigned to the $i^{th}$ cluster.\n",
    "\n",
    "#### Step 4\n",
    "\n",
    "In this step, we repeat step 2 and 3 until none of the cluster assignments change. That means until our clusters remain stable, we repeat the algorithm."
   ]
  },
  {
   "cell_type": "code",
   "execution_count": null,
   "metadata": {},
   "outputs": [],
   "source": []
  }
 ],
 "metadata": {
  "kernelspec": {
   "display_name": "Python 3",
   "language": "python",
   "name": "python3"
  },
  "language_info": {
   "codemirror_mode": {
    "name": "ipython",
    "version": 3
   },
   "file_extension": ".py",
   "mimetype": "text/x-python",
   "name": "python",
   "nbconvert_exporter": "python",
   "pygments_lexer": "ipython3",
   "version": "3.6.8"
  }
 },
 "nbformat": 4,
 "nbformat_minor": 2
}
