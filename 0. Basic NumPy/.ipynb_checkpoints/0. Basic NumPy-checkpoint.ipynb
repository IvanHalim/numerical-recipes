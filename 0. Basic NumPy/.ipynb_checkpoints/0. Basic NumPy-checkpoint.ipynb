{
 "cells": [
  {
   "cell_type": "markdown",
   "metadata": {},
   "source": [
    "NumPy enables fast computation in Python, the underlying implementation is in C hence it's blazing fast! The key feature of NumPy is the `ndarray` object. The data type should be homogenous, that is the array should contain elements of single data type."
   ]
  },
  {
   "cell_type": "code",
   "execution_count": 1,
   "metadata": {},
   "outputs": [
    {
     "name": "stdout",
     "output_type": "stream",
     "text": [
      "Vector: [1 2 3 4]\n",
      "Shape: (4,)\n",
      "Dim: 1\n",
      "Data type: int32\n"
     ]
    }
   ],
   "source": [
    "import numpy as np\n",
    "\n",
    "vector = np.array([1, 2, 3, 4])\n",
    "print(\"Vector: {}\".format(vector))\n",
    "# Every array will have a shape. That is, its dimensions\n",
    "print(\"Shape: {}\".format(vector.shape))\n",
    "# Print number of dimensions\n",
    "print(\"Dim: {}\".format(vector.ndim))\n",
    "print(\"Data type: {}\".format(vector.dtype))"
   ]
  },
  {
   "cell_type": "markdown",
   "metadata": {},
   "source": [
    "The number of dimensions numpy uses is as follows:\n",
    "\n",
    "`(depth, rows, columns)`\n",
    "\n",
    "So a 3D array of 3 rows, 2 columns and 2 depth will have following shape:\n",
    "\n",
    "`(2, 3, 2)`\n",
    "\n",
    "Which is somewhat counter-intuitive since we expect \"2\" to be on the other side. This is the convention followed in mostly all libraries. E.g. OpenCV"
   ]
  },
  {
   "cell_type": "code",
   "execution_count": 2,
   "metadata": {},
   "outputs": [
    {
     "name": "stdout",
     "output_type": "stream",
     "text": [
      "[[[ 1  2]\n",
      "  [ 3  4]\n",
      "  [ 5  6]]\n",
      "\n",
      " [[ 7  8]\n",
      "  [ 9 10]\n",
      "  [11 12]]]\n"
     ]
    }
   ],
   "source": [
    "v = np.array([1, 2, 3, 4, 5, 6, 7, 8, 9, 10, 11, 12])\n",
    "v.shape = (2, 3, 2)\n",
    "print(v)"
   ]
  },
  {
   "cell_type": "code",
   "execution_count": 3,
   "metadata": {},
   "outputs": [
    {
     "name": "stdout",
     "output_type": "stream",
     "text": [
      "[[[0. 0.]\n",
      "  [0. 0.]\n",
      "  [0. 0.]]\n",
      "\n",
      " [[0. 0.]\n",
      "  [0. 0.]\n",
      "  [0. 0.]]]\n"
     ]
    }
   ],
   "source": [
    "v = np.zeros((2, 3, 2))\n",
    "print(v)"
   ]
  },
  {
   "cell_type": "markdown",
   "metadata": {},
   "source": [
    "## arange\n",
    "The `arange` function is similar to Python's `range` function. The data type, if not specified, in many cases will be `np.float64`."
   ]
  },
  {
   "cell_type": "code",
   "execution_count": 4,
   "metadata": {},
   "outputs": [
    {
     "name": "stdout",
     "output_type": "stream",
     "text": [
      "[ 0  1  2  3  4  5  6  7  8  9 10 11 12 13 14]\n"
     ]
    }
   ],
   "source": [
    "a = np.arange(15)\n",
    "print(a)"
   ]
  },
  {
   "cell_type": "markdown",
   "metadata": {},
   "source": [
    "## zeros, zeros_like\n",
    "`zeros(dim)` will return a np.array of `dim` dimensions initialized with 0. Note that `dim` should be a `tuple`.\n",
    "\n",
    "`zeros_like(array)` will return a np.array of same dimensions as of `array` initialized with zeros.\n",
    "\n",
    "#### same functionality with `ones` and `ones_like` except of course the initialization is done with ones.\n",
    "\n",
    "#### same functionality with `empty` and `empty_like` which will create numpy arrays but won't initialize it with anything (hence, faster) By default, all the values in the array will have garbage values.\n"
   ]
  },
  {
   "cell_type": "code",
   "execution_count": 5,
   "metadata": {},
   "outputs": [
    {
     "name": "stdout",
     "output_type": "stream",
     "text": [
      "Zeros\n",
      "A: [[0. 0. 0.]\n",
      " [0. 0. 0.]\n",
      " [0. 0. 0.]]\n",
      "B: [[0. 0. 0.]\n",
      " [0. 0. 0.]\n",
      " [0. 0. 0.]]\n",
      "\n",
      "Ones\n",
      "A: [[1. 1. 1.]\n",
      " [1. 1. 1.]\n",
      " [1. 1. 1.]]\n",
      "B: [[1. 1. 1.]\n",
      " [1. 1. 1.]\n",
      " [1. 1. 1.]]\n",
      "\n",
      "Empty\n",
      "A: [[1. 1. 1.]\n",
      " [1. 1. 1.]\n",
      " [1. 1. 1.]]\n",
      "B: [[1. 1. 1.]\n",
      " [1. 1. 1.]\n",
      " [1. 1. 1.]]\n"
     ]
    }
   ],
   "source": [
    "print(\"Zeros\")\n",
    "a = np.zeros((3, 3))\n",
    "print(\"A: {}\".format(a))\n",
    "b = np.zeros_like(a)\n",
    "print(\"B: {}\".format(b))\n",
    "print(\"\\nOnes\")\n",
    "a = np.ones((3, 3))\n",
    "print(\"A: {}\".format(a))\n",
    "b = np.ones_like(a)\n",
    "print(\"B: {}\".format(b))\n",
    "print(\"\\nEmpty\")\n",
    "a = np.empty((3, 3))\n",
    "print(\"A: {}\".format(a))\n",
    "b = np.empty_like(a)\n",
    "print(\"B: {}\".format(b))"
   ]
  },
  {
   "cell_type": "code",
   "execution_count": null,
   "metadata": {},
   "outputs": [],
   "source": []
  }
 ],
 "metadata": {
  "kernelspec": {
   "display_name": "Python 3",
   "language": "python",
   "name": "python3"
  },
  "language_info": {
   "codemirror_mode": {
    "name": "ipython",
    "version": 3
   },
   "file_extension": ".py",
   "mimetype": "text/x-python",
   "name": "python",
   "nbconvert_exporter": "python",
   "pygments_lexer": "ipython3",
   "version": "3.7.1"
  }
 },
 "nbformat": 4,
 "nbformat_minor": 2
}
