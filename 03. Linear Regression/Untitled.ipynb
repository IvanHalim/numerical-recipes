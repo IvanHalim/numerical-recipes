{
 "cells": [
  {
   "cell_type": "markdown",
   "metadata": {},
   "source": [
    "# CS 434: Implementation Assignment 1\n",
    "\n",
    "## Linear Regression\n",
    "\n",
    "1. Load the training data into the corresponding $X$ and $Y$ matrices, where $X$ stores the features and $Y$ stores the desired outputs. The rows of $X$ and $Y$ correspond to the examples and the columns of $X$ correspond to the features. Introduce the dummy variable to $X$ by adding an extra column of ones to $X$ (You can make this extra column to be the first column. Changing the position of the added column will only change the order of the learned weight and does not matter in practice).  Compute the optimal weight vector $w$ using $w = (X^T X)^{−1}X^T Y$. Feel free to use existing numerical packages (e.g., numpy) to perform the computation. Report the learned weight vector."
   ]
  },
  {
   "cell_type": "code",
   "execution_count": 1,
   "metadata": {},
   "outputs": [],
   "source": [
    "import numpy as np\n",
    "from numpy.linalg import inv\n",
    "import pandas as pd"
   ]
  },
  {
   "cell_type": "code",
   "execution_count": 2,
   "metadata": {},
   "outputs": [
    {
     "data": {
      "text/html": [
       "<div>\n",
       "<style scoped>\n",
       "    .dataframe tbody tr th:only-of-type {\n",
       "        vertical-align: middle;\n",
       "    }\n",
       "\n",
       "    .dataframe tbody tr th {\n",
       "        vertical-align: top;\n",
       "    }\n",
       "\n",
       "    .dataframe thead th {\n",
       "        text-align: right;\n",
       "    }\n",
       "</style>\n",
       "<table border=\"1\" class=\"dataframe\">\n",
       "  <thead>\n",
       "    <tr style=\"text-align: right;\">\n",
       "      <th></th>\n",
       "      <th>CRIM</th>\n",
       "      <th>ZN</th>\n",
       "      <th>INDUS</th>\n",
       "      <th>CHAS</th>\n",
       "      <th>NOX</th>\n",
       "      <th>RM</th>\n",
       "      <th>AGE</th>\n",
       "      <th>DIS</th>\n",
       "      <th>RAD</th>\n",
       "      <th>TAX</th>\n",
       "      <th>PTRATIO</th>\n",
       "      <th>B</th>\n",
       "      <th>LSTAT</th>\n",
       "      <th>MEDV</th>\n",
       "    </tr>\n",
       "  </thead>\n",
       "  <tbody>\n",
       "    <tr>\n",
       "      <th>0</th>\n",
       "      <td>0.15098</td>\n",
       "      <td>0.0</td>\n",
       "      <td>10.01</td>\n",
       "      <td>0</td>\n",
       "      <td>0.5470</td>\n",
       "      <td>6.021</td>\n",
       "      <td>82.6</td>\n",
       "      <td>2.7474</td>\n",
       "      <td>6</td>\n",
       "      <td>432</td>\n",
       "      <td>17.8</td>\n",
       "      <td>394.51</td>\n",
       "      <td>10.30</td>\n",
       "      <td>19.2</td>\n",
       "    </tr>\n",
       "    <tr>\n",
       "      <th>1</th>\n",
       "      <td>12.04800</td>\n",
       "      <td>0.0</td>\n",
       "      <td>18.10</td>\n",
       "      <td>0</td>\n",
       "      <td>0.6140</td>\n",
       "      <td>5.648</td>\n",
       "      <td>87.6</td>\n",
       "      <td>1.9512</td>\n",
       "      <td>24</td>\n",
       "      <td>666</td>\n",
       "      <td>20.2</td>\n",
       "      <td>291.55</td>\n",
       "      <td>14.10</td>\n",
       "      <td>20.8</td>\n",
       "    </tr>\n",
       "    <tr>\n",
       "      <th>2</th>\n",
       "      <td>0.34940</td>\n",
       "      <td>0.0</td>\n",
       "      <td>9.90</td>\n",
       "      <td>0</td>\n",
       "      <td>0.5440</td>\n",
       "      <td>5.972</td>\n",
       "      <td>76.7</td>\n",
       "      <td>3.1025</td>\n",
       "      <td>4</td>\n",
       "      <td>304</td>\n",
       "      <td>18.4</td>\n",
       "      <td>396.24</td>\n",
       "      <td>9.97</td>\n",
       "      <td>20.3</td>\n",
       "    </tr>\n",
       "    <tr>\n",
       "      <th>3</th>\n",
       "      <td>0.03578</td>\n",
       "      <td>20.0</td>\n",
       "      <td>3.33</td>\n",
       "      <td>0</td>\n",
       "      <td>0.4429</td>\n",
       "      <td>7.820</td>\n",
       "      <td>64.5</td>\n",
       "      <td>4.6947</td>\n",
       "      <td>5</td>\n",
       "      <td>216</td>\n",
       "      <td>14.9</td>\n",
       "      <td>387.31</td>\n",
       "      <td>3.76</td>\n",
       "      <td>45.4</td>\n",
       "    </tr>\n",
       "    <tr>\n",
       "      <th>4</th>\n",
       "      <td>1.65660</td>\n",
       "      <td>0.0</td>\n",
       "      <td>19.58</td>\n",
       "      <td>0</td>\n",
       "      <td>0.8710</td>\n",
       "      <td>6.122</td>\n",
       "      <td>97.3</td>\n",
       "      <td>1.6180</td>\n",
       "      <td>5</td>\n",
       "      <td>403</td>\n",
       "      <td>14.7</td>\n",
       "      <td>372.80</td>\n",
       "      <td>14.10</td>\n",
       "      <td>21.5</td>\n",
       "    </tr>\n",
       "  </tbody>\n",
       "</table>\n",
       "</div>"
      ],
      "text/plain": [
       "       CRIM    ZN  INDUS  CHAS     NOX     RM   AGE     DIS  RAD  TAX  \\\n",
       "0   0.15098   0.0  10.01     0  0.5470  6.021  82.6  2.7474    6  432   \n",
       "1  12.04800   0.0  18.10     0  0.6140  5.648  87.6  1.9512   24  666   \n",
       "2   0.34940   0.0   9.90     0  0.5440  5.972  76.7  3.1025    4  304   \n",
       "3   0.03578  20.0   3.33     0  0.4429  7.820  64.5  4.6947    5  216   \n",
       "4   1.65660   0.0  19.58     0  0.8710  6.122  97.3  1.6180    5  403   \n",
       "\n",
       "   PTRATIO       B  LSTAT  MEDV  \n",
       "0     17.8  394.51  10.30  19.2  \n",
       "1     20.2  291.55  14.10  20.8  \n",
       "2     18.4  396.24   9.97  20.3  \n",
       "3     14.9  387.31   3.76  45.4  \n",
       "4     14.7  372.80  14.10  21.5  "
      ]
     },
     "execution_count": 2,
     "metadata": {},
     "output_type": "execute_result"
    }
   ],
   "source": [
    "df = pd.read_csv('housing_train.csv', header=None)\n",
    "df.columns = ['CRIM', 'ZN', 'INDUS', 'CHAS', 'NOX', 'RM', 'AGE',\n",
    "              'DIS', 'RAD', 'TAX', 'PTRATIO', 'B', 'LSTAT', 'MEDV']\n",
    "df.head()"
   ]
  },
  {
   "cell_type": "code",
   "execution_count": 3,
   "metadata": {},
   "outputs": [],
   "source": [
    "X = df.iloc[:, :-1].values\n",
    "X = np.insert(X, 0, 1, axis=1)\n",
    "y = df.iloc[:, -1].values"
   ]
  },
  {
   "cell_type": "code",
   "execution_count": 4,
   "metadata": {},
   "outputs": [
    {
     "data": {
      "text/plain": [
       "array([ 3.67103960e+01, -1.10220511e-01,  4.25270181e-02,  9.94268803e-03,\n",
       "        4.03688262e+00, -1.81193844e+01,  3.91213593e+00, -3.24572263e-03,\n",
       "       -1.61764599e+00,  3.51469633e-01, -1.35490385e-02, -8.88849879e-01,\n",
       "        9.33221332e-03, -5.87431614e-01])"
      ]
     },
     "execution_count": 4,
     "metadata": {},
     "output_type": "execute_result"
    }
   ],
   "source": [
    "w = inv(X.T.dot(X)).dot(X.T.dot(y))\n",
    "w"
   ]
  },
  {
   "cell_type": "code",
   "execution_count": 5,
   "metadata": {},
   "outputs": [],
   "source": [
    "df_test = pd.read_csv('housing_test.csv', header=None)\n",
    "X_test = df_test.iloc[:, :-1].values\n",
    "X_test = np.insert(X_test, 0, 1, axis=1)\n",
    "y_test = df_test.iloc[:, -1].values"
   ]
  },
  {
   "cell_type": "code",
   "execution_count": 6,
   "metadata": {},
   "outputs": [
    {
     "data": {
      "text/plain": [
       "21.635964362901735"
      ]
     },
     "execution_count": 6,
     "metadata": {},
     "output_type": "execute_result"
    }
   ],
   "source": [
    "# Training data ASE\n",
    "pred_train = X.dot(w)\n",
    "errors_train = y - pred_train\n",
    "ASE_train = errors_train.T.dot(errors_train)/len(X)\n",
    "ASE_train"
   ]
  },
  {
   "cell_type": "code",
   "execution_count": 7,
   "metadata": {},
   "outputs": [
    {
     "data": {
      "text/plain": [
       "23.690360525687108"
      ]
     },
     "execution_count": 7,
     "metadata": {},
     "output_type": "execute_result"
    }
   ],
   "source": [
    "# Testing data ASE\n",
    "pred_test = X_test.dot(w)\n",
    "errors_test = y_test - pred_test\n",
    "ASE_test = errors_test.T.dot(errors_test)/len(X_test)\n",
    "ASE_test"
   ]
  },
  {
   "cell_type": "code",
   "execution_count": 8,
   "metadata": {},
   "outputs": [],
   "source": [
    "X = np.delete(X, 0, axis=1)\n",
    "X_test = np.delete(X_test, 0, axis=1)"
   ]
  },
  {
   "cell_type": "code",
   "execution_count": 9,
   "metadata": {},
   "outputs": [
    {
     "data": {
      "text/plain": [
       "array([-0.09774079,  0.043473  , -0.0145373 ,  4.43876298, -2.93794405,\n",
       "        5.98021602, -0.00944101, -1.07952617,  0.18834311, -0.0089222 ,\n",
       "       -0.33255837,  0.01473948, -0.48346682])"
      ]
     },
     "execution_count": 9,
     "metadata": {},
     "output_type": "execute_result"
    }
   ],
   "source": [
    "w = inv(X.T.dot(X)).dot(X.T.dot(y))\n",
    "w"
   ]
  },
  {
   "cell_type": "code",
   "execution_count": 10,
   "metadata": {},
   "outputs": [
    {
     "data": {
      "text/plain": [
       "23.96275049259436"
      ]
     },
     "execution_count": 10,
     "metadata": {},
     "output_type": "execute_result"
    }
   ],
   "source": [
    "# Training data ASE\n",
    "pred_train = X.dot(w)\n",
    "errors_train = y - pred_train\n",
    "ASE_train = errors_train.T.dot(errors_train)/len(X)\n",
    "ASE_train"
   ]
  },
  {
   "cell_type": "code",
   "execution_count": 11,
   "metadata": {},
   "outputs": [
    {
     "data": {
      "text/plain": [
       "25.9387857057457"
      ]
     },
     "execution_count": 11,
     "metadata": {},
     "output_type": "execute_result"
    }
   ],
   "source": [
    "# Testing data ASE\n",
    "pred_test = X_test.dot(w)\n",
    "errors_test = y_test - pred_test\n",
    "ASE_test = errors_test.T.dot(errors_test)/len(X_test)\n",
    "ASE_test"
   ]
  },
  {
   "cell_type": "markdown",
   "metadata": {},
   "source": [
    "## Logistic Regression"
   ]
  },
  {
   "cell_type": "code",
   "execution_count": null,
   "metadata": {},
   "outputs": [],
   "source": [
    "class LogisticRegression:\n",
    "    def __init__(self, eta = 0.01, epoch = 15000):\n",
    "        self.eta   = eta\n",
    "        self.epoch = epoch\n",
    "\n",
    "    def fit(self, X, y):\n",
    "        self.weights = np.zeros(1 + X.shape[1])\n",
    "        self.costs   = []\n",
    "\n",
    "        for _ in range(self.epoch):\n",
    "            output = self.sigmoid(self.net_input(X))\n",
    "            errors = y - output\n",
    "            self.weights[1:] += self.eta * X.T.dot(errors)\n",
    "            self.weights[0]  += self.eta * errors.sum()\n",
    "            cost = self.cost(X, y)\n",
    "            self.costs.append(cost)\n",
    "        return self\n",
    "\n",
    "    @staticmethod\n",
    "    def sigmoid(X):\n",
    "        return 1 / (1 + np.exp(-X))\n",
    "\n",
    "    def cost(self, X, y):\n",
    "        net_input = self.net_input(X)\n",
    "        net_input_pos = net_input[y == 1]\n",
    "        net_input_neg = net_input[y == 0]\n",
    "        cost = - (1 / X.shape[0]) \\\n",
    "                * (np.sum(np.log(self.sigmoid(net_input_pos) + 10**(-16))) \n",
    "                    + np.sum(np.log(1 - self.sigmoid(net_input_neg) + 10**(-16))))\n",
    "        return cost\n",
    "\n",
    "    def net_input(self, X):\n",
    "        return np.dot(X, self.weights[1:]) + self.weights[0]\n",
    "\n",
    "    def predict(self, X, threshold = 0.5):\n",
    "        return self.sigmoid(self.net_input(X)) >= threshold"
   ]
  }
 ],
 "metadata": {
  "@webio": {
   "lastCommId": null,
   "lastKernelId": null
  },
  "kernelspec": {
   "display_name": "Python 3",
   "language": "python",
   "name": "python3"
  },
  "language_info": {
   "codemirror_mode": {
    "name": "ipython",
    "version": 3
   },
   "file_extension": ".py",
   "mimetype": "text/x-python",
   "name": "python",
   "nbconvert_exporter": "python",
   "pygments_lexer": "ipython3",
   "version": "3.6.8"
  }
 },
 "nbformat": 4,
 "nbformat_minor": 2
}
